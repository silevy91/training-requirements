{
 "cells": [
  {
   "cell_type": "markdown",
   "metadata": {},
   "source": [
    "# Analysis of the Gapminder dataset\n",
    "\n",
    "## 1. Read, inspect, and clean data\n",
    "\n",
    "Upon downloading the raw Gapminder data from Github and reading it into a `pandas` `DataFrame`, we will inspect the resulting table. The column information summary shows us that not all columns contain the same number of non-null entries, indicating that there is missing data. We will keep this in mind for future analyses, where we will need to clean the data. We will not omit any rows that are incomplete for the moment in order to avoid discarding useful partial data.\n",
    "\n",
    "We also see a column called `Unnamed: 0`, which is just a duplicate of the index. We will discard this column."
   ]
  },
  {
   "cell_type": "code",
   "execution_count": 26,
   "metadata": {},
   "outputs": [
    {
     "data": {
      "text/html": [
       "        <script type=\"text/javascript\">\n",
       "        window.PlotlyConfig = {MathJaxConfig: 'local'};\n",
       "        if (window.MathJax) {MathJax.Hub.Config({SVG: {font: \"STIX-Web\"}});}\n",
       "        if (typeof require !== 'undefined') {\n",
       "        require.undef(\"plotly\");\n",
       "        requirejs.config({\n",
       "            paths: {\n",
       "                'plotly': ['https://cdn.plot.ly/plotly-latest.min']\n",
       "            }\n",
       "        });\n",
       "        require(['plotly'], function(Plotly) {\n",
       "            window._Plotly = Plotly;\n",
       "        });\n",
       "        }\n",
       "        </script>\n",
       "        "
      ]
     },
     "metadata": {},
     "output_type": "display_data"
    },
    {
     "name": "stdout",
     "output_type": "stream",
     "text": [
      "<class 'pandas.core.frame.DataFrame'>\n",
      "RangeIndex: 2607 entries, 0 to 2606\n",
      "Data columns (total 20 columns):\n",
      " #   Column                                                   Non-Null Count  Dtype  \n",
      "---  ------                                                   --------------  -----  \n",
      " 0   Unnamed: 0                                               2607 non-null   int64  \n",
      " 1   Country Name                                             2607 non-null   object \n",
      " 2   Year                                                     2607 non-null   int64  \n",
      " 3   Agriculture, value added (% of GDP)                      1428 non-null   float64\n",
      " 4   CO2 emissions (metric tons per capita)                   2193 non-null   float64\n",
      " 5   Domestic credit provided by financial sector (% of GDP)  1743 non-null   float64\n",
      " 6   Electric power consumption (kWh per capita)              1369 non-null   float64\n",
      " 7   Energy use (kg of oil equivalent per capita)             1410 non-null   float64\n",
      " 8   Exports of goods and services (% of GDP)                 1809 non-null   float64\n",
      " 9   Fertility rate, total (births per woman)                 2423 non-null   float64\n",
      " 10  GDP growth (annual %)                                    1916 non-null   float64\n",
      " 11  Imports of goods and services (% of GDP)                 1809 non-null   float64\n",
      " 12  Industry, value added (% of GDP)                         1418 non-null   float64\n",
      " 13  Inflation, GDP deflator (annual %)                       1901 non-null   float64\n",
      " 14  Life expectancy at birth, total (years)                  2418 non-null   float64\n",
      " 15  Population density (people per sq. km of land area)      2558 non-null   float64\n",
      " 16  Services, etc., value added (% of GDP)                   1421 non-null   float64\n",
      " 17  pop                                                      1284 non-null   float64\n",
      " 18  continent                                                1284 non-null   object \n",
      " 19  gdpPercap                                                1284 non-null   float64\n",
      "dtypes: float64(16), int64(2), object(2)\n",
      "memory usage: 407.5+ KB\n"
     ]
    },
    {
     "data": {
      "text/plain": [
       "None"
      ]
     },
     "metadata": {},
     "output_type": "display_data"
    },
    {
     "data": {
      "text/html": [
       "<div>\n",
       "<style scoped>\n",
       "    .dataframe tbody tr th:only-of-type {\n",
       "        vertical-align: middle;\n",
       "    }\n",
       "\n",
       "    .dataframe tbody tr th {\n",
       "        vertical-align: top;\n",
       "    }\n",
       "\n",
       "    .dataframe thead th {\n",
       "        text-align: right;\n",
       "    }\n",
       "</style>\n",
       "<table border=\"1\" class=\"dataframe\">\n",
       "  <thead>\n",
       "    <tr style=\"text-align: right;\">\n",
       "      <th></th>\n",
       "      <th>Unnamed: 0</th>\n",
       "      <th>Country Name</th>\n",
       "      <th>Year</th>\n",
       "      <th>Agriculture, value added (% of GDP)</th>\n",
       "      <th>CO2 emissions (metric tons per capita)</th>\n",
       "      <th>Domestic credit provided by financial sector (% of GDP)</th>\n",
       "      <th>Electric power consumption (kWh per capita)</th>\n",
       "      <th>Energy use (kg of oil equivalent per capita)</th>\n",
       "      <th>Exports of goods and services (% of GDP)</th>\n",
       "      <th>Fertility rate, total (births per woman)</th>\n",
       "      <th>GDP growth (annual %)</th>\n",
       "      <th>Imports of goods and services (% of GDP)</th>\n",
       "      <th>Industry, value added (% of GDP)</th>\n",
       "      <th>Inflation, GDP deflator (annual %)</th>\n",
       "      <th>Life expectancy at birth, total (years)</th>\n",
       "      <th>Population density (people per sq. km of land area)</th>\n",
       "      <th>Services, etc., value added (% of GDP)</th>\n",
       "      <th>pop</th>\n",
       "      <th>continent</th>\n",
       "      <th>gdpPercap</th>\n",
       "    </tr>\n",
       "  </thead>\n",
       "  <tbody>\n",
       "    <tr>\n",
       "      <th>0</th>\n",
       "      <td>0</td>\n",
       "      <td>Afghanistan</td>\n",
       "      <td>1962</td>\n",
       "      <td>NaN</td>\n",
       "      <td>0.073781</td>\n",
       "      <td>21.276422</td>\n",
       "      <td>NaN</td>\n",
       "      <td>NaN</td>\n",
       "      <td>4.878051</td>\n",
       "      <td>7.450</td>\n",
       "      <td>NaN</td>\n",
       "      <td>9.349593</td>\n",
       "      <td>NaN</td>\n",
       "      <td>NaN</td>\n",
       "      <td>33.219902</td>\n",
       "      <td>14.312061</td>\n",
       "      <td>NaN</td>\n",
       "      <td>10267083.0</td>\n",
       "      <td>Asia</td>\n",
       "      <td>853.100710</td>\n",
       "    </tr>\n",
       "    <tr>\n",
       "      <th>1</th>\n",
       "      <td>1</td>\n",
       "      <td>Afghanistan</td>\n",
       "      <td>1967</td>\n",
       "      <td>NaN</td>\n",
       "      <td>0.123782</td>\n",
       "      <td>9.917662</td>\n",
       "      <td>NaN</td>\n",
       "      <td>NaN</td>\n",
       "      <td>6.772908</td>\n",
       "      <td>7.450</td>\n",
       "      <td>NaN</td>\n",
       "      <td>14.209827</td>\n",
       "      <td>NaN</td>\n",
       "      <td>NaN</td>\n",
       "      <td>35.389415</td>\n",
       "      <td>15.881812</td>\n",
       "      <td>NaN</td>\n",
       "      <td>11537966.0</td>\n",
       "      <td>Asia</td>\n",
       "      <td>836.197138</td>\n",
       "    </tr>\n",
       "    <tr>\n",
       "      <th>2</th>\n",
       "      <td>2</td>\n",
       "      <td>Afghanistan</td>\n",
       "      <td>1972</td>\n",
       "      <td>NaN</td>\n",
       "      <td>0.130820</td>\n",
       "      <td>18.880833</td>\n",
       "      <td>NaN</td>\n",
       "      <td>NaN</td>\n",
       "      <td>14.763231</td>\n",
       "      <td>7.450</td>\n",
       "      <td>NaN</td>\n",
       "      <td>18.105850</td>\n",
       "      <td>NaN</td>\n",
       "      <td>NaN</td>\n",
       "      <td>37.610146</td>\n",
       "      <td>17.947027</td>\n",
       "      <td>NaN</td>\n",
       "      <td>13079460.0</td>\n",
       "      <td>Asia</td>\n",
       "      <td>739.981106</td>\n",
       "    </tr>\n",
       "    <tr>\n",
       "      <th>3</th>\n",
       "      <td>3</td>\n",
       "      <td>Afghanistan</td>\n",
       "      <td>1977</td>\n",
       "      <td>NaN</td>\n",
       "      <td>0.183118</td>\n",
       "      <td>13.836822</td>\n",
       "      <td>NaN</td>\n",
       "      <td>NaN</td>\n",
       "      <td>11.662904</td>\n",
       "      <td>7.449</td>\n",
       "      <td>NaN</td>\n",
       "      <td>14.823175</td>\n",
       "      <td>NaN</td>\n",
       "      <td>NaN</td>\n",
       "      <td>40.110146</td>\n",
       "      <td>19.998926</td>\n",
       "      <td>NaN</td>\n",
       "      <td>14880372.0</td>\n",
       "      <td>Asia</td>\n",
       "      <td>786.113360</td>\n",
       "    </tr>\n",
       "    <tr>\n",
       "      <th>4</th>\n",
       "      <td>4</td>\n",
       "      <td>Afghanistan</td>\n",
       "      <td>1982</td>\n",
       "      <td>NaN</td>\n",
       "      <td>0.165879</td>\n",
       "      <td>NaN</td>\n",
       "      <td>NaN</td>\n",
       "      <td>NaN</td>\n",
       "      <td>NaN</td>\n",
       "      <td>7.450</td>\n",
       "      <td>NaN</td>\n",
       "      <td>NaN</td>\n",
       "      <td>NaN</td>\n",
       "      <td>NaN</td>\n",
       "      <td>43.230732</td>\n",
       "      <td>19.402324</td>\n",
       "      <td>NaN</td>\n",
       "      <td>12881816.0</td>\n",
       "      <td>Asia</td>\n",
       "      <td>978.011439</td>\n",
       "    </tr>\n",
       "    <tr>\n",
       "      <th>5</th>\n",
       "      <td>5</td>\n",
       "      <td>Afghanistan</td>\n",
       "      <td>1987</td>\n",
       "      <td>NaN</td>\n",
       "      <td>0.275560</td>\n",
       "      <td>NaN</td>\n",
       "      <td>NaN</td>\n",
       "      <td>NaN</td>\n",
       "      <td>NaN</td>\n",
       "      <td>7.461</td>\n",
       "      <td>NaN</td>\n",
       "      <td>NaN</td>\n",
       "      <td>NaN</td>\n",
       "      <td>NaN</td>\n",
       "      <td>47.296341</td>\n",
       "      <td>17.366559</td>\n",
       "      <td>NaN</td>\n",
       "      <td>13867957.0</td>\n",
       "      <td>Asia</td>\n",
       "      <td>852.395945</td>\n",
       "    </tr>\n",
       "    <tr>\n",
       "      <th>6</th>\n",
       "      <td>6</td>\n",
       "      <td>Afghanistan</td>\n",
       "      <td>1992</td>\n",
       "      <td>NaN</td>\n",
       "      <td>0.101375</td>\n",
       "      <td>NaN</td>\n",
       "      <td>NaN</td>\n",
       "      <td>NaN</td>\n",
       "      <td>NaN</td>\n",
       "      <td>7.502</td>\n",
       "      <td>NaN</td>\n",
       "      <td>NaN</td>\n",
       "      <td>NaN</td>\n",
       "      <td>NaN</td>\n",
       "      <td>51.362927</td>\n",
       "      <td>21.054483</td>\n",
       "      <td>NaN</td>\n",
       "      <td>16317921.0</td>\n",
       "      <td>Asia</td>\n",
       "      <td>649.341395</td>\n",
       "    </tr>\n",
       "    <tr>\n",
       "      <th>7</th>\n",
       "      <td>7</td>\n",
       "      <td>Afghanistan</td>\n",
       "      <td>1997</td>\n",
       "      <td>NaN</td>\n",
       "      <td>0.060798</td>\n",
       "      <td>NaN</td>\n",
       "      <td>NaN</td>\n",
       "      <td>NaN</td>\n",
       "      <td>NaN</td>\n",
       "      <td>7.636</td>\n",
       "      <td>NaN</td>\n",
       "      <td>NaN</td>\n",
       "      <td>NaN</td>\n",
       "      <td>NaN</td>\n",
       "      <td>54.017829</td>\n",
       "      <td>27.623273</td>\n",
       "      <td>NaN</td>\n",
       "      <td>22227415.0</td>\n",
       "      <td>Asia</td>\n",
       "      <td>635.341351</td>\n",
       "    </tr>\n",
       "    <tr>\n",
       "      <th>8</th>\n",
       "      <td>8</td>\n",
       "      <td>Afghanistan</td>\n",
       "      <td>2002</td>\n",
       "      <td>38.471940</td>\n",
       "      <td>0.041129</td>\n",
       "      <td>NaN</td>\n",
       "      <td>NaN</td>\n",
       "      <td>NaN</td>\n",
       "      <td>32.386719</td>\n",
       "      <td>7.273</td>\n",
       "      <td>NaN</td>\n",
       "      <td>65.287704</td>\n",
       "      <td>23.714097</td>\n",
       "      <td>NaN</td>\n",
       "      <td>55.857195</td>\n",
       "      <td>32.912231</td>\n",
       "      <td>37.813963</td>\n",
       "      <td>25268405.0</td>\n",
       "      <td>Asia</td>\n",
       "      <td>726.734055</td>\n",
       "    </tr>\n",
       "    <tr>\n",
       "      <th>9</th>\n",
       "      <td>9</td>\n",
       "      <td>Afghanistan</td>\n",
       "      <td>2007</td>\n",
       "      <td>30.622854</td>\n",
       "      <td>0.087858</td>\n",
       "      <td>0.535181</td>\n",
       "      <td>NaN</td>\n",
       "      <td>NaN</td>\n",
       "      <td>17.823714</td>\n",
       "      <td>6.437</td>\n",
       "      <td>13.740205</td>\n",
       "      <td>58.350047</td>\n",
       "      <td>27.344703</td>\n",
       "      <td>22.382016</td>\n",
       "      <td>57.833829</td>\n",
       "      <td>39.637202</td>\n",
       "      <td>42.032443</td>\n",
       "      <td>31889923.0</td>\n",
       "      <td>Asia</td>\n",
       "      <td>974.580338</td>\n",
       "    </tr>\n",
       "    <tr>\n",
       "      <th>10</th>\n",
       "      <td>10</td>\n",
       "      <td>Albania</td>\n",
       "      <td>1962</td>\n",
       "      <td>NaN</td>\n",
       "      <td>1.439956</td>\n",
       "      <td>NaN</td>\n",
       "      <td>NaN</td>\n",
       "      <td>NaN</td>\n",
       "      <td>NaN</td>\n",
       "      <td>6.282</td>\n",
       "      <td>NaN</td>\n",
       "      <td>NaN</td>\n",
       "      <td>NaN</td>\n",
       "      <td>NaN</td>\n",
       "      <td>64.162854</td>\n",
       "      <td>62.456898</td>\n",
       "      <td>NaN</td>\n",
       "      <td>1728137.0</td>\n",
       "      <td>Europe</td>\n",
       "      <td>2312.888958</td>\n",
       "    </tr>\n",
       "    <tr>\n",
       "      <th>11</th>\n",
       "      <td>11</td>\n",
       "      <td>Albania</td>\n",
       "      <td>1967</td>\n",
       "      <td>NaN</td>\n",
       "      <td>1.363746</td>\n",
       "      <td>NaN</td>\n",
       "      <td>NaN</td>\n",
       "      <td>NaN</td>\n",
       "      <td>NaN</td>\n",
       "      <td>5.394</td>\n",
       "      <td>NaN</td>\n",
       "      <td>NaN</td>\n",
       "      <td>NaN</td>\n",
       "      <td>NaN</td>\n",
       "      <td>66.287220</td>\n",
       "      <td>71.737153</td>\n",
       "      <td>NaN</td>\n",
       "      <td>1984060.0</td>\n",
       "      <td>Europe</td>\n",
       "      <td>2760.196931</td>\n",
       "    </tr>\n",
       "    <tr>\n",
       "      <th>12</th>\n",
       "      <td>12</td>\n",
       "      <td>Albania</td>\n",
       "      <td>1972</td>\n",
       "      <td>NaN</td>\n",
       "      <td>2.515914</td>\n",
       "      <td>NaN</td>\n",
       "      <td>568.403202</td>\n",
       "      <td>865.592481</td>\n",
       "      <td>NaN</td>\n",
       "      <td>4.642</td>\n",
       "      <td>NaN</td>\n",
       "      <td>NaN</td>\n",
       "      <td>NaN</td>\n",
       "      <td>NaN</td>\n",
       "      <td>67.585951</td>\n",
       "      <td>81.865912</td>\n",
       "      <td>NaN</td>\n",
       "      <td>2263554.0</td>\n",
       "      <td>Europe</td>\n",
       "      <td>3313.422188</td>\n",
       "    </tr>\n",
       "    <tr>\n",
       "      <th>13</th>\n",
       "      <td>13</td>\n",
       "      <td>Albania</td>\n",
       "      <td>1977</td>\n",
       "      <td>NaN</td>\n",
       "      <td>2.275876</td>\n",
       "      <td>NaN</td>\n",
       "      <td>1067.814156</td>\n",
       "      <td>923.728868</td>\n",
       "      <td>NaN</td>\n",
       "      <td>3.966</td>\n",
       "      <td>NaN</td>\n",
       "      <td>NaN</td>\n",
       "      <td>NaN</td>\n",
       "      <td>NaN</td>\n",
       "      <td>69.456171</td>\n",
       "      <td>91.735255</td>\n",
       "      <td>NaN</td>\n",
       "      <td>2509048.0</td>\n",
       "      <td>Europe</td>\n",
       "      <td>3533.003910</td>\n",
       "    </tr>\n",
       "    <tr>\n",
       "      <th>14</th>\n",
       "      <td>14</td>\n",
       "      <td>Albania</td>\n",
       "      <td>1982</td>\n",
       "      <td>31.699710</td>\n",
       "      <td>2.624857</td>\n",
       "      <td>NaN</td>\n",
       "      <td>1096.873229</td>\n",
       "      <td>966.683284</td>\n",
       "      <td>19.375001</td>\n",
       "      <td>3.452</td>\n",
       "      <td>2.948597</td>\n",
       "      <td>23.877538</td>\n",
       "      <td>43.800170</td>\n",
       "      <td>-0.017694</td>\n",
       "      <td>70.685122</td>\n",
       "      <td>101.615985</td>\n",
       "      <td>24.500119</td>\n",
       "      <td>2780097.0</td>\n",
       "      <td>Europe</td>\n",
       "      <td>3630.880722</td>\n",
       "    </tr>\n",
       "    <tr>\n",
       "      <th>15</th>\n",
       "      <td>15</td>\n",
       "      <td>Albania</td>\n",
       "      <td>1987</td>\n",
       "      <td>33.200025</td>\n",
       "      <td>2.414061</td>\n",
       "      <td>NaN</td>\n",
       "      <td>1161.951677</td>\n",
       "      <td>921.893044</td>\n",
       "      <td>15.466297</td>\n",
       "      <td>3.164</td>\n",
       "      <td>-0.787843</td>\n",
       "      <td>15.562511</td>\n",
       "      <td>45.800152</td>\n",
       "      <td>0.000029</td>\n",
       "      <td>71.861951</td>\n",
       "      <td>112.540328</td>\n",
       "      <td>20.999824</td>\n",
       "      <td>3075321.0</td>\n",
       "      <td>Europe</td>\n",
       "      <td>3738.932735</td>\n",
       "    </tr>\n",
       "    <tr>\n",
       "      <th>16</th>\n",
       "      <td>16</td>\n",
       "      <td>Albania</td>\n",
       "      <td>1992</td>\n",
       "      <td>51.641870</td>\n",
       "      <td>0.774725</td>\n",
       "      <td>NaN</td>\n",
       "      <td>442.249077</td>\n",
       "      <td>418.286630</td>\n",
       "      <td>11.490438</td>\n",
       "      <td>2.829</td>\n",
       "      <td>-7.200000</td>\n",
       "      <td>88.512248</td>\n",
       "      <td>23.320559</td>\n",
       "      <td>249.683437</td>\n",
       "      <td>71.900805</td>\n",
       "      <td>118.505073</td>\n",
       "      <td>25.037571</td>\n",
       "      <td>3326498.0</td>\n",
       "      <td>Europe</td>\n",
       "      <td>2497.437901</td>\n",
       "    </tr>\n",
       "    <tr>\n",
       "      <th>17</th>\n",
       "      <td>17</td>\n",
       "      <td>Albania</td>\n",
       "      <td>1997</td>\n",
       "      <td>32.700160</td>\n",
       "      <td>0.490365</td>\n",
       "      <td>54.045926</td>\n",
       "      <td>680.688922</td>\n",
       "      <td>384.594958</td>\n",
       "      <td>9.745654</td>\n",
       "      <td>2.423</td>\n",
       "      <td>-10.837856</td>\n",
       "      <td>34.189995</td>\n",
       "      <td>15.377651</td>\n",
       "      <td>12.088706</td>\n",
       "      <td>72.898098</td>\n",
       "      <td>114.900766</td>\n",
       "      <td>51.922189</td>\n",
       "      <td>3428038.0</td>\n",
       "      <td>Europe</td>\n",
       "      <td>3193.054604</td>\n",
       "    </tr>\n",
       "    <tr>\n",
       "      <th>18</th>\n",
       "      <td>18</td>\n",
       "      <td>Albania</td>\n",
       "      <td>2002</td>\n",
       "      <td>24.235933</td>\n",
       "      <td>1.229541</td>\n",
       "      <td>47.193912</td>\n",
       "      <td>1561.122382</td>\n",
       "      <td>645.080154</td>\n",
       "      <td>19.598874</td>\n",
       "      <td>1.975</td>\n",
       "      <td>4.231371</td>\n",
       "      <td>44.335366</td>\n",
       "      <td>19.596072</td>\n",
       "      <td>2.410590</td>\n",
       "      <td>75.154610</td>\n",
       "      <td>111.350730</td>\n",
       "      <td>56.167995</td>\n",
       "      <td>3508512.0</td>\n",
       "      <td>Europe</td>\n",
       "      <td>4604.211737</td>\n",
       "    </tr>\n",
       "    <tr>\n",
       "      <th>19</th>\n",
       "      <td>19</td>\n",
       "      <td>Albania</td>\n",
       "      <td>2007</td>\n",
       "      <td>19.874798</td>\n",
       "      <td>1.322335</td>\n",
       "      <td>62.076755</td>\n",
       "      <td>1213.124369</td>\n",
       "      <td>679.861765</td>\n",
       "      <td>28.084222</td>\n",
       "      <td>1.635</td>\n",
       "      <td>5.900000</td>\n",
       "      <td>54.788201</td>\n",
       "      <td>25.334355</td>\n",
       "      <td>3.576195</td>\n",
       "      <td>76.470293</td>\n",
       "      <td>108.394781</td>\n",
       "      <td>54.790848</td>\n",
       "      <td>3600523.0</td>\n",
       "      <td>Europe</td>\n",
       "      <td>5937.029526</td>\n",
       "    </tr>\n",
       "  </tbody>\n",
       "</table>\n",
       "</div>"
      ],
      "text/plain": [
       "    Unnamed: 0 Country Name  Year  Agriculture, value added (% of GDP)  \\\n",
       "0            0  Afghanistan  1962                                  NaN   \n",
       "1            1  Afghanistan  1967                                  NaN   \n",
       "2            2  Afghanistan  1972                                  NaN   \n",
       "3            3  Afghanistan  1977                                  NaN   \n",
       "4            4  Afghanistan  1982                                  NaN   \n",
       "5            5  Afghanistan  1987                                  NaN   \n",
       "6            6  Afghanistan  1992                                  NaN   \n",
       "7            7  Afghanistan  1997                                  NaN   \n",
       "8            8  Afghanistan  2002                            38.471940   \n",
       "9            9  Afghanistan  2007                            30.622854   \n",
       "10          10      Albania  1962                                  NaN   \n",
       "11          11      Albania  1967                                  NaN   \n",
       "12          12      Albania  1972                                  NaN   \n",
       "13          13      Albania  1977                                  NaN   \n",
       "14          14      Albania  1982                            31.699710   \n",
       "15          15      Albania  1987                            33.200025   \n",
       "16          16      Albania  1992                            51.641870   \n",
       "17          17      Albania  1997                            32.700160   \n",
       "18          18      Albania  2002                            24.235933   \n",
       "19          19      Albania  2007                            19.874798   \n",
       "\n",
       "    CO2 emissions (metric tons per capita)  \\\n",
       "0                                 0.073781   \n",
       "1                                 0.123782   \n",
       "2                                 0.130820   \n",
       "3                                 0.183118   \n",
       "4                                 0.165879   \n",
       "5                                 0.275560   \n",
       "6                                 0.101375   \n",
       "7                                 0.060798   \n",
       "8                                 0.041129   \n",
       "9                                 0.087858   \n",
       "10                                1.439956   \n",
       "11                                1.363746   \n",
       "12                                2.515914   \n",
       "13                                2.275876   \n",
       "14                                2.624857   \n",
       "15                                2.414061   \n",
       "16                                0.774725   \n",
       "17                                0.490365   \n",
       "18                                1.229541   \n",
       "19                                1.322335   \n",
       "\n",
       "    Domestic credit provided by financial sector (% of GDP)  \\\n",
       "0                                           21.276422         \n",
       "1                                            9.917662         \n",
       "2                                           18.880833         \n",
       "3                                           13.836822         \n",
       "4                                                 NaN         \n",
       "5                                                 NaN         \n",
       "6                                                 NaN         \n",
       "7                                                 NaN         \n",
       "8                                                 NaN         \n",
       "9                                            0.535181         \n",
       "10                                                NaN         \n",
       "11                                                NaN         \n",
       "12                                                NaN         \n",
       "13                                                NaN         \n",
       "14                                                NaN         \n",
       "15                                                NaN         \n",
       "16                                                NaN         \n",
       "17                                          54.045926         \n",
       "18                                          47.193912         \n",
       "19                                          62.076755         \n",
       "\n",
       "    Electric power consumption (kWh per capita)  \\\n",
       "0                                           NaN   \n",
       "1                                           NaN   \n",
       "2                                           NaN   \n",
       "3                                           NaN   \n",
       "4                                           NaN   \n",
       "5                                           NaN   \n",
       "6                                           NaN   \n",
       "7                                           NaN   \n",
       "8                                           NaN   \n",
       "9                                           NaN   \n",
       "10                                          NaN   \n",
       "11                                          NaN   \n",
       "12                                   568.403202   \n",
       "13                                  1067.814156   \n",
       "14                                  1096.873229   \n",
       "15                                  1161.951677   \n",
       "16                                   442.249077   \n",
       "17                                   680.688922   \n",
       "18                                  1561.122382   \n",
       "19                                  1213.124369   \n",
       "\n",
       "    Energy use (kg of oil equivalent per capita)  \\\n",
       "0                                            NaN   \n",
       "1                                            NaN   \n",
       "2                                            NaN   \n",
       "3                                            NaN   \n",
       "4                                            NaN   \n",
       "5                                            NaN   \n",
       "6                                            NaN   \n",
       "7                                            NaN   \n",
       "8                                            NaN   \n",
       "9                                            NaN   \n",
       "10                                           NaN   \n",
       "11                                           NaN   \n",
       "12                                    865.592481   \n",
       "13                                    923.728868   \n",
       "14                                    966.683284   \n",
       "15                                    921.893044   \n",
       "16                                    418.286630   \n",
       "17                                    384.594958   \n",
       "18                                    645.080154   \n",
       "19                                    679.861765   \n",
       "\n",
       "    Exports of goods and services (% of GDP)  \\\n",
       "0                                   4.878051   \n",
       "1                                   6.772908   \n",
       "2                                  14.763231   \n",
       "3                                  11.662904   \n",
       "4                                        NaN   \n",
       "5                                        NaN   \n",
       "6                                        NaN   \n",
       "7                                        NaN   \n",
       "8                                  32.386719   \n",
       "9                                  17.823714   \n",
       "10                                       NaN   \n",
       "11                                       NaN   \n",
       "12                                       NaN   \n",
       "13                                       NaN   \n",
       "14                                 19.375001   \n",
       "15                                 15.466297   \n",
       "16                                 11.490438   \n",
       "17                                  9.745654   \n",
       "18                                 19.598874   \n",
       "19                                 28.084222   \n",
       "\n",
       "    Fertility rate, total (births per woman)  GDP growth (annual %)  \\\n",
       "0                                      7.450                    NaN   \n",
       "1                                      7.450                    NaN   \n",
       "2                                      7.450                    NaN   \n",
       "3                                      7.449                    NaN   \n",
       "4                                      7.450                    NaN   \n",
       "5                                      7.461                    NaN   \n",
       "6                                      7.502                    NaN   \n",
       "7                                      7.636                    NaN   \n",
       "8                                      7.273                    NaN   \n",
       "9                                      6.437              13.740205   \n",
       "10                                     6.282                    NaN   \n",
       "11                                     5.394                    NaN   \n",
       "12                                     4.642                    NaN   \n",
       "13                                     3.966                    NaN   \n",
       "14                                     3.452               2.948597   \n",
       "15                                     3.164              -0.787843   \n",
       "16                                     2.829              -7.200000   \n",
       "17                                     2.423             -10.837856   \n",
       "18                                     1.975               4.231371   \n",
       "19                                     1.635               5.900000   \n",
       "\n",
       "    Imports of goods and services (% of GDP)  \\\n",
       "0                                   9.349593   \n",
       "1                                  14.209827   \n",
       "2                                  18.105850   \n",
       "3                                  14.823175   \n",
       "4                                        NaN   \n",
       "5                                        NaN   \n",
       "6                                        NaN   \n",
       "7                                        NaN   \n",
       "8                                  65.287704   \n",
       "9                                  58.350047   \n",
       "10                                       NaN   \n",
       "11                                       NaN   \n",
       "12                                       NaN   \n",
       "13                                       NaN   \n",
       "14                                 23.877538   \n",
       "15                                 15.562511   \n",
       "16                                 88.512248   \n",
       "17                                 34.189995   \n",
       "18                                 44.335366   \n",
       "19                                 54.788201   \n",
       "\n",
       "    Industry, value added (% of GDP)  Inflation, GDP deflator (annual %)  \\\n",
       "0                                NaN                                 NaN   \n",
       "1                                NaN                                 NaN   \n",
       "2                                NaN                                 NaN   \n",
       "3                                NaN                                 NaN   \n",
       "4                                NaN                                 NaN   \n",
       "5                                NaN                                 NaN   \n",
       "6                                NaN                                 NaN   \n",
       "7                                NaN                                 NaN   \n",
       "8                          23.714097                                 NaN   \n",
       "9                          27.344703                           22.382016   \n",
       "10                               NaN                                 NaN   \n",
       "11                               NaN                                 NaN   \n",
       "12                               NaN                                 NaN   \n",
       "13                               NaN                                 NaN   \n",
       "14                         43.800170                           -0.017694   \n",
       "15                         45.800152                            0.000029   \n",
       "16                         23.320559                          249.683437   \n",
       "17                         15.377651                           12.088706   \n",
       "18                         19.596072                            2.410590   \n",
       "19                         25.334355                            3.576195   \n",
       "\n",
       "    Life expectancy at birth, total (years)  \\\n",
       "0                                 33.219902   \n",
       "1                                 35.389415   \n",
       "2                                 37.610146   \n",
       "3                                 40.110146   \n",
       "4                                 43.230732   \n",
       "5                                 47.296341   \n",
       "6                                 51.362927   \n",
       "7                                 54.017829   \n",
       "8                                 55.857195   \n",
       "9                                 57.833829   \n",
       "10                                64.162854   \n",
       "11                                66.287220   \n",
       "12                                67.585951   \n",
       "13                                69.456171   \n",
       "14                                70.685122   \n",
       "15                                71.861951   \n",
       "16                                71.900805   \n",
       "17                                72.898098   \n",
       "18                                75.154610   \n",
       "19                                76.470293   \n",
       "\n",
       "    Population density (people per sq. km of land area)  \\\n",
       "0                                           14.312061     \n",
       "1                                           15.881812     \n",
       "2                                           17.947027     \n",
       "3                                           19.998926     \n",
       "4                                           19.402324     \n",
       "5                                           17.366559     \n",
       "6                                           21.054483     \n",
       "7                                           27.623273     \n",
       "8                                           32.912231     \n",
       "9                                           39.637202     \n",
       "10                                          62.456898     \n",
       "11                                          71.737153     \n",
       "12                                          81.865912     \n",
       "13                                          91.735255     \n",
       "14                                         101.615985     \n",
       "15                                         112.540328     \n",
       "16                                         118.505073     \n",
       "17                                         114.900766     \n",
       "18                                         111.350730     \n",
       "19                                         108.394781     \n",
       "\n",
       "    Services, etc., value added (% of GDP)         pop continent    gdpPercap  \n",
       "0                                      NaN  10267083.0      Asia   853.100710  \n",
       "1                                      NaN  11537966.0      Asia   836.197138  \n",
       "2                                      NaN  13079460.0      Asia   739.981106  \n",
       "3                                      NaN  14880372.0      Asia   786.113360  \n",
       "4                                      NaN  12881816.0      Asia   978.011439  \n",
       "5                                      NaN  13867957.0      Asia   852.395945  \n",
       "6                                      NaN  16317921.0      Asia   649.341395  \n",
       "7                                      NaN  22227415.0      Asia   635.341351  \n",
       "8                                37.813963  25268405.0      Asia   726.734055  \n",
       "9                                42.032443  31889923.0      Asia   974.580338  \n",
       "10                                     NaN   1728137.0    Europe  2312.888958  \n",
       "11                                     NaN   1984060.0    Europe  2760.196931  \n",
       "12                                     NaN   2263554.0    Europe  3313.422188  \n",
       "13                                     NaN   2509048.0    Europe  3533.003910  \n",
       "14                               24.500119   2780097.0    Europe  3630.880722  \n",
       "15                               20.999824   3075321.0    Europe  3738.932735  \n",
       "16                               25.037571   3326498.0    Europe  2497.437901  \n",
       "17                               51.922189   3428038.0    Europe  3193.054604  \n",
       "18                               56.167995   3508512.0    Europe  4604.211737  \n",
       "19                               54.790848   3600523.0    Europe  5937.029526  "
      ]
     },
     "metadata": {},
     "output_type": "display_data"
    }
   ],
   "source": [
    "# Import relevant packages\n",
    "import pandas as pd\n",
    "import requests\n",
    "import io\n",
    "import matplotlib.pyplot as plt\n",
    "from scipy.stats import pearsonr, f_oneway, ttest_ind\n",
    "import plotly\n",
    "import plotly.graph_objs as go\n",
    "import numpy as np\n",
    "\n",
    "# Set plotly notebook settings\n",
    "plotly.offline.init_notebook_mode(connected=True)\n",
    "\n",
    "# Get data from github\n",
    "url = \"https://raw.githubusercontent.com/silevy91/training-requirements/main/Python%20for%20Data%20Science/gapminder_clean.csv\"\n",
    "download = requests.get(url).content\n",
    "\n",
    "# Read data into pandas DataFrame\n",
    "gapminder = pd.read_csv(io.StringIO(download.decode('utf-8')))\n",
    "\n",
    "# Inspect data\n",
    "display(gapminder.info())\n",
    "display(gapminder.head(n = 20))\n",
    "\n",
    "# Clean data\n",
    "gapminder.drop('Unnamed: 0', inplace = True, axis = 'columns')"
   ]
  },
  {
   "cell_type": "markdown",
   "metadata": {},
   "source": [
    "## 2. Comparing CO2 emissions and GDP per capita in 1962\n",
    "\n",
    "We will first filter the `gapminder` table to contain only entries from the year 1962. Next, we generate a scatter plot comparing GDP per capita and CO2 emissions using the plotting function offered by `pandas`. Due to the scales that both these metrics span, we will use logarithmic axes. We can observe that there appears to be a rather close correlation between GDP per capita and CO2 emissions. In the [next step](#3.-Quantifying-the-correlation), we will quantify this relationship."
   ]
  },
  {
   "cell_type": "code",
   "execution_count": 27,
   "metadata": {},
   "outputs": [
    {
     "data": {
      "image/png": "[encoded data removed]",
      "text/plain": [
       "<Figure size 432x288 with 1 Axes>"
      ]
     },
     "metadata": {
      "needs_background": "light"
     },
     "output_type": "display_data"
    }
   ],
   "source": [
    "# Filter data to 1962\n",
    "gapminder_1962 = gapminder[gapminder['Year'] == 1962]\n",
    "\n",
    "# Plot emissions and GDP per capita\n",
    "gapminder_1962.plot(x = 'gdpPercap', y = 'CO2 emissions (metric tons per capita)', kind = 'scatter', \n",
    "                    logx = True, logy = True, title = 'CO2 emissions relative to GDP per capita in 1962')\n",
    "plt.xlabel('GDP per capita')\n",
    "plt.ylabel('CO2 emissions [tons per capita]')\n",
    "plt.show()"
   ]
  },
  {
   "cell_type": "markdown",
   "metadata": {},
   "source": [
    "## 3. Quantifying the correlation\n",
    "\n",
    "Upon inspecting the two relevant data columns, we see that they contain unequal numbers of non-null entries, indicating missed data (as alluded to [earlier](#1.-Read,-inspect,-and-clean-data)). We drop N/A values from both columns and use the `pearsonr` function from `scipy.stats` to calculate and display the Pearson R correlation value and associated p-value for the correlation between GDP per capita and CO2 emissions per capita in 1962. The p-value on the order of $10^{-46}$ indicates an extremely close correlation."
   ]
  },
  {
   "cell_type": "code",
   "execution_count": 28,
   "metadata": {},
   "outputs": [
    {
     "name": "stdout",
     "output_type": "stream",
     "text": [
      "<class 'pandas.core.frame.DataFrame'>\n",
      "Int64Index: 259 entries, 0 to 2597\n",
      "Data columns (total 2 columns):\n",
      " #   Column                                  Non-Null Count  Dtype  \n",
      "---  ------                                  --------------  -----  \n",
      " 0   gdpPercap                               128 non-null    float64\n",
      " 1   CO2 emissions (metric tons per capita)  195 non-null    float64\n",
      "dtypes: float64(2)\n",
      "memory usage: 6.1 KB\n"
     ]
    },
    {
     "data": {
      "text/plain": [
       "None"
      ]
     },
     "metadata": {},
     "output_type": "display_data"
    },
    {
     "name": "stdout",
     "output_type": "stream",
     "text": [
      "The Pearson R value for the correlation between GDP per capita and CO2 emissions per capita in 1962 is: 0.9260816725019472\n",
      "The p-value associated with that correlation is: 1.1286792210038754e-46\n"
     ]
    }
   ],
   "source": [
    "# Inspect the relevant data columns\n",
    "display(gapminder_1962[['gdpPercap', 'CO2 emissions (metric tons per capita)']].info())\n",
    "\n",
    "# Drop nan values, calculate Pearson R and p-value\n",
    "gdp_vs_co2 = gapminder_1962.dropna(subset = ['gdpPercap', 'CO2 emissions (metric tons per capita)'])\n",
    "r, p = pearsonr(gdp_vs_co2['gdpPercap'], gdp_vs_co2['CO2 emissions (metric tons per capita)'])\n",
    "print(\"The Pearson R value for the correlation between GDP per capita and CO2 emissions per capita in 1962 is: \" + str(r))\n",
    "print(\"The p-value associated with that correlation is: \" + str(p))"
   ]
  },
  {
   "cell_type": "markdown",
   "metadata": {},
   "source": [
    "## 4. Finding the year with best GDP per capita and CO2 emissions correlation\n",
    "\n",
    "We will first group the data by year and calculate and display the correlation matrix between GDP per capita (`gdpPercap`) and CO2 emissions per capita (`CO2 emissions (metric tons per capita`). From this table, we will isolate only the GDP per capita vs. CO2 emissions correlation for each year and sort these values in descending order. As we can see from the resulting table, the year with the closest correlation was 1967."
   ]
  },
  {
   "cell_type": "code",
   "execution_count": 29,
   "metadata": {},
   "outputs": [
    {
     "data": {
      "text/html": [
       "<div>\n",
       "<style scoped>\n",
       "    .dataframe tbody tr th:only-of-type {\n",
       "        vertical-align: middle;\n",
       "    }\n",
       "\n",
       "    .dataframe tbody tr th {\n",
       "        vertical-align: top;\n",
       "    }\n",
       "\n",
       "    .dataframe thead th {\n",
       "        text-align: right;\n",
       "    }\n",
       "</style>\n",
       "<table border=\"1\" class=\"dataframe\">\n",
       "  <thead>\n",
       "    <tr style=\"text-align: right;\">\n",
       "      <th></th>\n",
       "      <th></th>\n",
       "      <th>gdpPercap</th>\n",
       "      <th>CO2 emissions (metric tons per capita)</th>\n",
       "    </tr>\n",
       "    <tr>\n",
       "      <th>Year</th>\n",
       "      <th></th>\n",
       "      <th></th>\n",
       "      <th></th>\n",
       "    </tr>\n",
       "  </thead>\n",
       "  <tbody>\n",
       "    <tr>\n",
       "      <th rowspan=\"2\" valign=\"top\">1962</th>\n",
       "      <th>gdpPercap</th>\n",
       "      <td>1.000000</td>\n",
       "      <td>0.926082</td>\n",
       "    </tr>\n",
       "    <tr>\n",
       "      <th>CO2 emissions (metric tons per capita)</th>\n",
       "      <td>0.926082</td>\n",
       "      <td>1.000000</td>\n",
       "    </tr>\n",
       "    <tr>\n",
       "      <th rowspan=\"2\" valign=\"top\">1967</th>\n",
       "      <th>gdpPercap</th>\n",
       "      <td>1.000000</td>\n",
       "      <td>0.938792</td>\n",
       "    </tr>\n",
       "    <tr>\n",
       "      <th>CO2 emissions (metric tons per capita)</th>\n",
       "      <td>0.938792</td>\n",
       "      <td>1.000000</td>\n",
       "    </tr>\n",
       "    <tr>\n",
       "      <th rowspan=\"2\" valign=\"top\">1972</th>\n",
       "      <th>gdpPercap</th>\n",
       "      <td>1.000000</td>\n",
       "      <td>0.842899</td>\n",
       "    </tr>\n",
       "    <tr>\n",
       "      <th>CO2 emissions (metric tons per capita)</th>\n",
       "      <td>0.842899</td>\n",
       "      <td>1.000000</td>\n",
       "    </tr>\n",
       "    <tr>\n",
       "      <th rowspan=\"2\" valign=\"top\">1977</th>\n",
       "      <th>gdpPercap</th>\n",
       "      <td>1.000000</td>\n",
       "      <td>0.792834</td>\n",
       "    </tr>\n",
       "    <tr>\n",
       "      <th>CO2 emissions (metric tons per capita)</th>\n",
       "      <td>0.792834</td>\n",
       "      <td>1.000000</td>\n",
       "    </tr>\n",
       "    <tr>\n",
       "      <th rowspan=\"2\" valign=\"top\">1982</th>\n",
       "      <th>gdpPercap</th>\n",
       "      <td>1.000000</td>\n",
       "      <td>0.816638</td>\n",
       "    </tr>\n",
       "    <tr>\n",
       "      <th>CO2 emissions (metric tons per capita)</th>\n",
       "      <td>0.816638</td>\n",
       "      <td>1.000000</td>\n",
       "    </tr>\n",
       "    <tr>\n",
       "      <th rowspan=\"2\" valign=\"top\">1987</th>\n",
       "      <th>gdpPercap</th>\n",
       "      <td>1.000000</td>\n",
       "      <td>0.809553</td>\n",
       "    </tr>\n",
       "    <tr>\n",
       "      <th>CO2 emissions (metric tons per capita)</th>\n",
       "      <td>0.809553</td>\n",
       "      <td>1.000000</td>\n",
       "    </tr>\n",
       "    <tr>\n",
       "      <th rowspan=\"2\" valign=\"top\">1992</th>\n",
       "      <th>gdpPercap</th>\n",
       "      <td>1.000000</td>\n",
       "      <td>0.809432</td>\n",
       "    </tr>\n",
       "    <tr>\n",
       "      <th>CO2 emissions (metric tons per capita)</th>\n",
       "      <td>0.809432</td>\n",
       "      <td>1.000000</td>\n",
       "    </tr>\n",
       "    <tr>\n",
       "      <th rowspan=\"2\" valign=\"top\">1997</th>\n",
       "      <th>gdpPercap</th>\n",
       "      <td>1.000000</td>\n",
       "      <td>0.808140</td>\n",
       "    </tr>\n",
       "    <tr>\n",
       "      <th>CO2 emissions (metric tons per capita)</th>\n",
       "      <td>0.808140</td>\n",
       "      <td>1.000000</td>\n",
       "    </tr>\n",
       "    <tr>\n",
       "      <th rowspan=\"2\" valign=\"top\">2002</th>\n",
       "      <th>gdpPercap</th>\n",
       "      <td>1.000000</td>\n",
       "      <td>0.800642</td>\n",
       "    </tr>\n",
       "    <tr>\n",
       "      <th>CO2 emissions (metric tons per capita)</th>\n",
       "      <td>0.800642</td>\n",
       "      <td>1.000000</td>\n",
       "    </tr>\n",
       "    <tr>\n",
       "      <th rowspan=\"2\" valign=\"top\">2007</th>\n",
       "      <th>gdpPercap</th>\n",
       "      <td>1.000000</td>\n",
       "      <td>0.720417</td>\n",
       "    </tr>\n",
       "    <tr>\n",
       "      <th>CO2 emissions (metric tons per capita)</th>\n",
       "      <td>0.720417</td>\n",
       "      <td>1.000000</td>\n",
       "    </tr>\n",
       "  </tbody>\n",
       "</table>\n",
       "</div>"
      ],
      "text/plain": [
       "                                             gdpPercap  \\\n",
       "Year                                                     \n",
       "1962 gdpPercap                                1.000000   \n",
       "     CO2 emissions (metric tons per capita)   0.926082   \n",
       "1967 gdpPercap                                1.000000   \n",
       "     CO2 emissions (metric tons per capita)   0.938792   \n",
       "1972 gdpPercap                                1.000000   \n",
       "     CO2 emissions (metric tons per capita)   0.842899   \n",
       "1977 gdpPercap                                1.000000   \n",
       "     CO2 emissions (metric tons per capita)   0.792834   \n",
       "1982 gdpPercap                                1.000000   \n",
       "     CO2 emissions (metric tons per capita)   0.816638   \n",
       "1987 gdpPercap                                1.000000   \n",
       "     CO2 emissions (metric tons per capita)   0.809553   \n",
       "1992 gdpPercap                                1.000000   \n",
       "     CO2 emissions (metric tons per capita)   0.809432   \n",
       "1997 gdpPercap                                1.000000   \n",
       "     CO2 emissions (metric tons per capita)   0.808140   \n",
       "2002 gdpPercap                                1.000000   \n",
       "     CO2 emissions (metric tons per capita)   0.800642   \n",
       "2007 gdpPercap                                1.000000   \n",
       "     CO2 emissions (metric tons per capita)   0.720417   \n",
       "\n",
       "                                             CO2 emissions (metric tons per capita)  \n",
       "Year                                                                                 \n",
       "1962 gdpPercap                                                             0.926082  \n",
       "     CO2 emissions (metric tons per capita)                                1.000000  \n",
       "1967 gdpPercap                                                             0.938792  \n",
       "     CO2 emissions (metric tons per capita)                                1.000000  \n",
       "1972 gdpPercap                                                             0.842899  \n",
       "     CO2 emissions (metric tons per capita)                                1.000000  \n",
       "1977 gdpPercap                                                             0.792834  \n",
       "     CO2 emissions (metric tons per capita)                                1.000000  \n",
       "1982 gdpPercap                                                             0.816638  \n",
       "     CO2 emissions (metric tons per capita)                                1.000000  \n",
       "1987 gdpPercap                                                             0.809553  \n",
       "     CO2 emissions (metric tons per capita)                                1.000000  \n",
       "1992 gdpPercap                                                             0.809432  \n",
       "     CO2 emissions (metric tons per capita)                                1.000000  \n",
       "1997 gdpPercap                                                             0.808140  \n",
       "     CO2 emissions (metric tons per capita)                                1.000000  \n",
       "2002 gdpPercap                                                             0.800642  \n",
       "     CO2 emissions (metric tons per capita)                                1.000000  \n",
       "2007 gdpPercap                                                             0.720417  \n",
       "     CO2 emissions (metric tons per capita)                                1.000000  "
      ]
     },
     "metadata": {},
     "output_type": "display_data"
    },
    {
     "data": {
      "text/html": [
       "<div>\n",
       "<style scoped>\n",
       "    .dataframe tbody tr th:only-of-type {\n",
       "        vertical-align: middle;\n",
       "    }\n",
       "\n",
       "    .dataframe tbody tr th {\n",
       "        vertical-align: top;\n",
       "    }\n",
       "\n",
       "    .dataframe thead th {\n",
       "        text-align: right;\n",
       "    }\n",
       "</style>\n",
       "<table border=\"1\" class=\"dataframe\">\n",
       "  <thead>\n",
       "    <tr style=\"text-align: right;\">\n",
       "      <th></th>\n",
       "      <th>gdpPercap vs CO2 emissions correlation</th>\n",
       "    </tr>\n",
       "    <tr>\n",
       "      <th>Year</th>\n",
       "      <th></th>\n",
       "    </tr>\n",
       "  </thead>\n",
       "  <tbody>\n",
       "    <tr>\n",
       "      <th>1967</th>\n",
       "      <td>0.938792</td>\n",
       "    </tr>\n",
       "    <tr>\n",
       "      <th>1962</th>\n",
       "      <td>0.926082</td>\n",
       "    </tr>\n",
       "    <tr>\n",
       "      <th>1972</th>\n",
       "      <td>0.842899</td>\n",
       "    </tr>\n",
       "    <tr>\n",
       "      <th>1982</th>\n",
       "      <td>0.816638</td>\n",
       "    </tr>\n",
       "    <tr>\n",
       "      <th>1987</th>\n",
       "      <td>0.809553</td>\n",
       "    </tr>\n",
       "    <tr>\n",
       "      <th>1992</th>\n",
       "      <td>0.809432</td>\n",
       "    </tr>\n",
       "    <tr>\n",
       "      <th>1997</th>\n",
       "      <td>0.808140</td>\n",
       "    </tr>\n",
       "    <tr>\n",
       "      <th>2002</th>\n",
       "      <td>0.800642</td>\n",
       "    </tr>\n",
       "    <tr>\n",
       "      <th>1977</th>\n",
       "      <td>0.792834</td>\n",
       "    </tr>\n",
       "    <tr>\n",
       "      <th>2007</th>\n",
       "      <td>0.720417</td>\n",
       "    </tr>\n",
       "  </tbody>\n",
       "</table>\n",
       "</div>"
      ],
      "text/plain": [
       "      gdpPercap vs CO2 emissions correlation\n",
       "Year                                        \n",
       "1967                                0.938792\n",
       "1962                                0.926082\n",
       "1972                                0.842899\n",
       "1982                                0.816638\n",
       "1987                                0.809553\n",
       "1992                                0.809432\n",
       "1997                                0.808140\n",
       "2002                                0.800642\n",
       "1977                                0.792834\n",
       "2007                                0.720417"
      ]
     },
     "metadata": {},
     "output_type": "display_data"
    }
   ],
   "source": [
    "# Gropu data by year and create correlation matrix\n",
    "yearly_corr = gapminder[['Year', 'gdpPercap', 'CO2 emissions (metric tons per capita)']].groupby('Year').corr()\n",
    "display(yearly_corr)\n",
    "\n",
    "# Pivot the last level of the index\n",
    "yearly_corr = yearly_corr.unstack() \n",
    "\n",
    "# Keep only the GDP vs emissions column, reindex it, and sort the values\n",
    "yearly_corr = pd.DataFrame(yearly_corr[('gdpPercap', 'CO2 emissions (metric tons per capita)')])\n",
    "yearly_corr.columns = yearly_corr.columns.to_flat_index()\n",
    "yearly_corr.columns = ['gdpPercap vs CO2 emissions correlation']\n",
    "yearly_corr.sort_values(by = 'gdpPercap vs CO2 emissions correlation', inplace = True, ascending = False)\n",
    "\n",
    "display(yearly_corr)\n"
   ]
  },
  {
   "cell_type": "markdown",
   "metadata": {},
   "source": [
    "## 5. Generating an interactive plot comparing GDP per capita and CO2 emissions\n",
    "\n",
    "We will now explore the relationship between GDP per capita and CO2 emissions in an interactive graph that will also contain population size and continent information for each country. Based on the results [above](#4.-Finding-the-year-with-best-GDP-per-capita-and-CO2-emissions-correlation), we chose to visualize data from the year 1967.\n",
    "\n",
    "Upon inspecting the graph, we can see that African countries as well as several Asian ones tend to cluster toward the bottom-left of the graph, indicating countries with low GDP per capita and CO2 emissions consistent with developing countries. Conversely, European and Oceanian countries tend to be both high in GDP per capita as well as CO2 emissions. With the exception of the USA and Canada, which cluster with European nations, countries in the Americas form a cluster of intermediate GDP and emissions."
   ]
  },
  {
   "cell_type": "code",
   "execution_count": 30,
   "metadata": {},
   "outputs": [
    {
     "data": {
      "application/vnd.plotly.v1+json": {
       "config": {
        "plotlyServerURL": "https://plot.ly"
       },
       "data": [
        {
         "hovertext": [
          "Algeria",
          "Angola",
          "Benin",
          "Burkina Faso",
          "Burundi",
          "Cameroon",
          "Central African Republic",
          "Chad",
          "Comoros",
          "Cote d'Ivoire",
          "Djibouti",
          "Equatorial Guinea",
          "Ethiopia",
          "Gabon",
          "Ghana",
          "Guinea",
          "Guinea-Bissau",
          "Kenya",
          "Liberia",
          "Libya",
          "Madagascar",
          "Malawi",
          "Mali",
          "Mauritania",
          "Mauritius",
          "Morocco",
          "Mozambique",
          "Niger",
          "Nigeria",
          "Rwanda",
          "Sao Tome and Principe",
          "Senegal",
          "Sierra Leone",
          "Somalia",
          "South Africa",
          "Sudan",
          "Swaziland",
          "Tanzania",
          "Togo",
          "Tunisia",
          "Uganda",
          "Zambia",
          "Zimbabwe"
         ],
         "marker": {
          "size": [
           12760499,
           5247469,
           2427334,
           5127935,
           3330989,
           6335506,
           1733638,
           3495967,
           217378,
           4744870,
           127617,
           259864,
           27860297,
           489004,
           8490213,
           3451418,
           601287,
           10191512,
           1279406,
           1759224,
           6334556,
           4147252,
           5212416,
           1230542,
           789309,
           14770296,
           8680909,
           4534062,
           47287752,
           3451079,
           70787,
           3965841,
           2662190,
           3428839,
           20997321,
           12716129,
           420690,
           12607312,
           1735550,
           4786986,
           8900294,
           3900000,
           4995432
          ],
          "sizemin": 2,
          "sizemode": "area",
          "sizeref": 150910
         },
         "mode": "markers",
         "name": "Africa",
         "type": "scatter",
         "x": [
          3246.991771,
          5522.776375,
          1035.831411,
          794.8265597,
          412.97751360000007,
          1508.453148,
          1136.056615,
          1196.810565,
          1876.029643,
          2052.050473,
          3020.050513,
          915.5960025,
          516.1186438,
          8358.761987,
          1125.69716,
          708.7595409,
          715.5806402000002,
          1056.736457,
          713.6036482999998,
          18772.75169,
          1634.047282,
          495.5147806,
          545.0098873,
          1421.145193,
          2475.387562,
          1711.04477,
          566.6691539,
          1054.384891,
          1014.514104,
          510.9637142,
          1384.840593,
          1612.404632,
          1206.043465,
          1284.7331800000004,
          7114.477970999998,
          1687.997641,
          2613.101665,
          848.2186575,
          1477.59676,
          1932.3601670000005,
          908.9185217,
          1777.077318,
          569.7950712
         ],
         "y": [
          0.632118426889,
          0.166658588848,
          0.052319596114800006,
          0.019216847400900003,
          0.014735442989100001,
          0.0729810151442,
          0.0533441408437,
          0.034149082700299996,
          0.0856623590204,
          0.324270273072,
          0.669756398256,
          0.0908814105401,
          0.0408827807982,
          1.82744493336,
          0.18568374429499998,
          0.180529006335,
          0.0707397168393,
          0.266146233454,
          0.46565291810099996,
          9.94130993774,
          0.138895338975,
          0.08603915567600001,
          0.0392007077217,
          0.18817905795499998,
          0.6361795955439999,
          0.3615857767970001,
          0.216165510896,
          0.0318543481335,
          0.24468289058200002,
          0.011800265218499998,
          0.16207973598099998,
          0.181319271624,
          0.105440879922,
          0.0704483235701,
          6.46564779364,
          0.250771072594,
          0.55253014742,
          0.141879278158,
          0.10672264605000001,
          0.638870927594,
          0.0944460734361,
          1.2636279603,
          1.12296052314
         ]
        },
        {
         "hovertext": [
          "Argentina",
          "Bolivia",
          "Brazil",
          "Canada",
          "Chile",
          "Colombia",
          "Costa Rica",
          "Cuba",
          "Dominican Republic",
          "Ecuador",
          "El Salvador",
          "Guatemala",
          "Haiti",
          "Honduras",
          "Jamaica",
          "Mexico",
          "Nicaragua",
          "Panama",
          "Paraguay",
          "Peru",
          "Trinidad and Tobago",
          "United States",
          "Uruguay"
         ],
         "marker": {
          "size": [
           22934225,
           4040665,
           88049823,
           20819767,
           8858908,
           19764027,
           1588717,
           8139332,
           4049146,
           5432424,
           3232927,
           4690773,
           4318137,
           2500689,
           1861096,
           47995559,
           1865490,
           1405486,
           2287985,
           12132200,
           960155,
           198712000,
           2748579
          ],
          "sizemin": 2,
          "sizemode": "area",
          "sizeref": 150910
         },
         "mode": "markers",
         "name": "Americas",
         "type": "scatter",
         "x": [
          8052.953020999998,
          2586.886053,
          3429.864357,
          16076.58803,
          5106.654313,
          2678.729839,
          4161.727834,
          5690.268015,
          1653.7230029999996,
          4579.074215,
          4358.595393,
          3242.531147,
          1452.057666,
          2538.269358,
          6124.7034509999985,
          5754.733883,
          4643.393534000002,
          4421.009084,
          2299.376311,
          5788.09333,
          5621.368472,
          19530.36557,
          5444.61962
         ],
         "y": [
          2.85816254619,
          0.446569679542,
          0.744966530874,
          13.8103545953,
          2.1409901271900003,
          1.21683476874,
          0.517145991263,
          1.90593276713,
          0.38046916116400004,
          0.46578197097199997,
          0.342459705043,
          0.397317380131,
          0.0585660070754,
          0.352498584235,
          2.1446334617800002,
          1.8996986330400003,
          0.493983688604,
          1.21812383412,
          0.21301339678599998,
          1.1118562074299998,
          5.00989828473,
          18.5983178822,
          1.77610139003
         ]
        },
        {
         "hovertext": [
          "Afghanistan",
          "Bahrain",
          "Cambodia",
          "China",
          "India",
          "Indonesia",
          "Iraq",
          "Israel",
          "Japan",
          "Jordan",
          "Kuwait",
          "Lebanon",
          "Mongolia",
          "Myanmar",
          "Nepal",
          "Oman",
          "Pakistan",
          "Philippines",
          "Saudi Arabia",
          "Singapore",
          "Sri Lanka",
          "Thailand",
          "Vietnam"
         ],
         "marker": {
          "size": [
           11537966,
           202182,
           6960067,
           754550000,
           506000000,
           109343000,
           8519282,
           2693585,
           100825279,
           1255058,
           575003,
           2186894,
           1149500,
           25870271,
           11261690,
           714775,
           60641899,
           35356600,
           5618198,
           1977600,
           11737396,
           34024249,
           39463910
          ],
          "sizemin": 2,
          "sizemode": "area",
          "sizeref": 150910
         },
         "mode": "markers",
         "name": "Asia",
         "type": "scatter",
         "x": [
          836.1971382,
          14804.6727,
          523.4323142,
          612.7056934,
          700.7706107000001,
          762.4317721,
          8931.459811,
          8393.741404,
          9847.788607,
          2741.796252,
          80894.88326,
          6006.983042,
          1226.04113,
          349,
          676.4422254,
          4720.942687,
          942.4082588,
          1814.12743,
          16903.04886,
          4977.41854,
          1135.514326,
          1295.46066,
          637.1232887
         ],
         "y": [
          0.12378238142100001,
          5.12101242081,
          0.0624360387486,
          0.574162146975,
          0.331763432432,
          0.23191547809000002,
          2.05575631533,
          4.93341748634,
          4.86355784562,
          1.0719834839700002,
          43.428302701599996,
          1.64225486815,
          1.83477215037,
          0.143519517019,
          0.0188098863912,
          0.205537806177,
          0.40252233230499995,
          0.555413076261,
          4.90876421118,
          1.54645934466,
          0.25192412202,
          0.36020267329800004,
          0.574906353177
         ]
        },
        {
         "hovertext": [
          "Albania",
          "Austria",
          "Belgium",
          "Bulgaria",
          "Denmark",
          "Finland",
          "France",
          "Greece",
          "Hungary",
          "Iceland",
          "Ireland",
          "Italy",
          "Netherlands",
          "Norway",
          "Poland",
          "Portugal",
          "Romania",
          "Spain",
          "Sweden",
          "Switzerland",
          "Turkey",
          "United Kingdom"
         ],
         "marker": {
          "size": [
           1984060,
           7376998,
           9556500,
           8310226,
           4838800,
           4605744,
           49569000,
           8716441,
           10223422,
           198676,
           2900100,
           52667100,
           12596822,
           3786019,
           31785378,
           9103000,
           19284814,
           32850275,
           7867931,
           6063000,
           33411317,
           54959000
          ],
          "sizemin": 2,
          "sizemode": "area",
          "sizeref": 150910
         },
         "mode": "markers",
         "name": "Europe",
         "type": "scatter",
         "x": [
          2760.196931,
          12834.6024,
          13149.04119,
          5577.0028,
          15937.21123,
          10921.63626,
          12999.91766,
          8513.097016,
          9326.64467,
          13319.89568,
          7655.568963,
          10022.40131,
          15363.25136,
          16361.87647,
          6557.152776,
          6361.517993,
          6470.866545,
          7993.512294,
          15258.29697,
          22966.14432,
          2826.3563870000007,
          14142.85089
         ],
         "y": [
          1.36374630011,
          5.41773672705,
          11.2172567535,
          6.63836916108,
          10.1493005476,
          6.21338658857,
          7.3064221599,
          2.24941398567,
          5.758242269149999,
          7.269387323839999,
          5.65504728764,
          4.43148255688,
          8.47605463669,
          5.1072949704,
          8.105834013680001,
          1.39828723131,
          4.71631855487,
          2.64722755876,
          8.770023402589999,
          5.43460087436,
          1.03313907211,
          10.7841045545
         ]
        },
        {
         "hovertext": [
          "Australia",
          "New Zealand"
         ],
         "marker": {
          "size": [
           11872264,
           2728150
          ],
          "sizemin": 2,
          "sizemode": "area",
          "sizeref": 150910
         },
         "mode": "markers",
         "name": "Oceania",
         "type": "scatter",
         "x": [
          14526.12465,
          14463.918930000002
         ],
         "y": [
          10.955624798699999,
          5.00761352373
         ]
        }
       ],
       "layout": {
        "template": {
         "data": {
          "bar": [
           {
            "error_x": {
             "color": "#2a3f5f"
            },
            "error_y": {
             "color": "#2a3f5f"
            },
            "marker": {
             "line": {
              "color": "#E5ECF6",
              "width": 0.5
             }
            },
            "type": "bar"
           }
          ],
          "barpolar": [
           {
            "marker": {
             "line": {
              "color": "#E5ECF6",
              "width": 0.5
             }
            },
            "type": "barpolar"
           }
          ],
          "carpet": [
           {
            "aaxis": {
             "endlinecolor": "#2a3f5f",
             "gridcolor": "white",
             "linecolor": "white",
             "minorgridcolor": "white",
             "startlinecolor": "#2a3f5f"
            },
            "baxis": {
             "endlinecolor": "#2a3f5f",
             "gridcolor": "white",
             "linecolor": "white",
             "minorgridcolor": "white",
             "startlinecolor": "#2a3f5f"
            },
            "type": "carpet"
           }
          ],
          "choropleth": [
           {
            "colorbar": {
             "outlinewidth": 0,
             "ticks": ""
            },
            "type": "choropleth"
           }
          ],
          "contour": [
           {
            "colorbar": {
             "outlinewidth": 0,
             "ticks": ""
            },
            "colorscale": [
             [
              0,
              "#0d0887"
             ],
             [
              0.1111111111111111,
              "#46039f"
             ],
             [
              0.2222222222222222,
              "#7201a8"
             ],
             [
              0.3333333333333333,
              "#9c179e"
             ],
             [
              0.4444444444444444,
              "#bd3786"
             ],
             [
              0.5555555555555556,
              "#d8576b"
             ],
             [
              0.6666666666666666,
              "#ed7953"
             ],
             [
              0.7777777777777778,
              "#fb9f3a"
             ],
             [
              0.8888888888888888,
              "#fdca26"
             ],
             [
              1,
              "#f0f921"
             ]
            ],
            "type": "contour"
           }
          ],
          "contourcarpet": [
           {
            "colorbar": {
             "outlinewidth": 0,
             "ticks": ""
            },
            "type": "contourcarpet"
           }
          ],
          "heatmap": [
           {
            "colorbar": {
             "outlinewidth": 0,
             "ticks": ""
            },
            "colorscale": [
             [
              0,
              "#0d0887"
             ],
             [
              0.1111111111111111,
              "#46039f"
             ],
             [
              0.2222222222222222,
              "#7201a8"
             ],
             [
              0.3333333333333333,
              "#9c179e"
             ],
             [
              0.4444444444444444,
              "#bd3786"
             ],
             [
              0.5555555555555556,
              "#d8576b"
             ],
             [
              0.6666666666666666,
              "#ed7953"
             ],
             [
              0.7777777777777778,
              "#fb9f3a"
             ],
             [
              0.8888888888888888,
              "#fdca26"
             ],
             [
              1,
              "#f0f921"
             ]
            ],
            "type": "heatmap"
           }
          ],
          "heatmapgl": [
           {
            "colorbar": {
             "outlinewidth": 0,
             "ticks": ""
            },
            "colorscale": [
             [
              0,
              "#0d0887"
             ],
             [
              0.1111111111111111,
              "#46039f"
             ],
             [
              0.2222222222222222,
              "#7201a8"
             ],
             [
              0.3333333333333333,
              "#9c179e"
             ],
             [
              0.4444444444444444,
              "#bd3786"
             ],
             [
              0.5555555555555556,
              "#d8576b"
             ],
             [
              0.6666666666666666,
              "#ed7953"
             ],
             [
              0.7777777777777778,
              "#fb9f3a"
             ],
             [
              0.8888888888888888,
              "#fdca26"
             ],
             [
              1,
              "#f0f921"
             ]
            ],
            "type": "heatmapgl"
           }
          ],
          "histogram": [
           {
            "marker": {
             "colorbar": {
              "outlinewidth": 0,
              "ticks": ""
             }
            },
            "type": "histogram"
           }
          ],
          "histogram2d": [
           {
            "colorbar": {
             "outlinewidth": 0,
             "ticks": ""
            },
            "colorscale": [
             [
              0,
              "#0d0887"
             ],
             [
              0.1111111111111111,
              "#46039f"
             ],
             [
              0.2222222222222222,
              "#7201a8"
             ],
             [
              0.3333333333333333,
              "#9c179e"
             ],
             [
              0.4444444444444444,
              "#bd3786"
             ],
             [
              0.5555555555555556,
              "#d8576b"
             ],
             [
              0.6666666666666666,
              "#ed7953"
             ],
             [
              0.7777777777777778,
              "#fb9f3a"
             ],
             [
              0.8888888888888888,
              "#fdca26"
             ],
             [
              1,
              "#f0f921"
             ]
            ],
            "type": "histogram2d"
           }
          ],
          "histogram2dcontour": [
           {
            "colorbar": {
             "outlinewidth": 0,
             "ticks": ""
            },
            "colorscale": [
             [
              0,
              "#0d0887"
             ],
             [
              0.1111111111111111,
              "#46039f"
             ],
             [
              0.2222222222222222,
              "#7201a8"
             ],
             [
              0.3333333333333333,
              "#9c179e"
             ],
             [
              0.4444444444444444,
              "#bd3786"
             ],
             [
              0.5555555555555556,
              "#d8576b"
             ],
             [
              0.6666666666666666,
              "#ed7953"
             ],
             [
              0.7777777777777778,
              "#fb9f3a"
             ],
             [
              0.8888888888888888,
              "#fdca26"
             ],
             [
              1,
              "#f0f921"
             ]
            ],
            "type": "histogram2dcontour"
           }
          ],
          "mesh3d": [
           {
            "colorbar": {
             "outlinewidth": 0,
             "ticks": ""
            },
            "type": "mesh3d"
           }
          ],
          "parcoords": [
           {
            "line": {
             "colorbar": {
              "outlinewidth": 0,
              "ticks": ""
             }
            },
            "type": "parcoords"
           }
          ],
          "pie": [
           {
            "automargin": true,
            "type": "pie"
           }
          ],
          "scatter": [
           {
            "marker": {
             "colorbar": {
              "outlinewidth": 0,
              "ticks": ""
             }
            },
            "type": "scatter"
           }
          ],
          "scatter3d": [
           {
            "line": {
             "colorbar": {
              "outlinewidth": 0,
              "ticks": ""
             }
            },
            "marker": {
             "colorbar": {
              "outlinewidth": 0,
              "ticks": ""
             }
            },
            "type": "scatter3d"
           }
          ],
          "scattercarpet": [
           {
            "marker": {
             "colorbar": {
              "outlinewidth": 0,
              "ticks": ""
             }
            },
            "type": "scattercarpet"
           }
          ],
          "scattergeo": [
           {
            "marker": {
             "colorbar": {
              "outlinewidth": 0,
              "ticks": ""
             }
            },
            "type": "scattergeo"
           }
          ],
          "scattergl": [
           {
            "marker": {
             "colorbar": {
              "outlinewidth": 0,
              "ticks": ""
             }
            },
            "type": "scattergl"
           }
          ],
          "scattermapbox": [
           {
            "marker": {
             "colorbar": {
              "outlinewidth": 0,
              "ticks": ""
             }
            },
            "type": "scattermapbox"
           }
          ],
          "scatterpolar": [
           {
            "marker": {
             "colorbar": {
              "outlinewidth": 0,
              "ticks": ""
             }
            },
            "type": "scatterpolar"
           }
          ],
          "scatterpolargl": [
           {
            "marker": {
             "colorbar": {
              "outlinewidth": 0,
              "ticks": ""
             }
            },
            "type": "scatterpolargl"
           }
          ],
          "scatterternary": [
           {
            "marker": {
             "colorbar": {
              "outlinewidth": 0,
              "ticks": ""
             }
            },
            "type": "scatterternary"
           }
          ],
          "surface": [
           {
            "colorbar": {
             "outlinewidth": 0,
             "ticks": ""
            },
            "colorscale": [
             [
              0,
              "#0d0887"
             ],
             [
              0.1111111111111111,
              "#46039f"
             ],
             [
              0.2222222222222222,
              "#7201a8"
             ],
             [
              0.3333333333333333,
              "#9c179e"
             ],
             [
              0.4444444444444444,
              "#bd3786"
             ],
             [
              0.5555555555555556,
              "#d8576b"
             ],
             [
              0.6666666666666666,
              "#ed7953"
             ],
             [
              0.7777777777777778,
              "#fb9f3a"
             ],
             [
              0.8888888888888888,
              "#fdca26"
             ],
             [
              1,
              "#f0f921"
             ]
            ],
            "type": "surface"
           }
          ],
          "table": [
           {
            "cells": {
             "fill": {
              "color": "#EBF0F8"
             },
             "line": {
              "color": "white"
             }
            },
            "header": {
             "fill": {
              "color": "#C8D4E3"
             },
             "line": {
              "color": "white"
             }
            },
            "type": "table"
           }
          ]
         },
         "layout": {
          "annotationdefaults": {
           "arrowcolor": "#2a3f5f",
           "arrowhead": 0,
           "arrowwidth": 1
          },
          "autotypenumbers": "strict",
          "coloraxis": {
           "colorbar": {
            "outlinewidth": 0,
            "ticks": ""
           }
          },
          "colorscale": {
           "diverging": [
            [
             0,
             "#8e0152"
            ],
            [
             0.1,
             "#c51b7d"
            ],
            [
             0.2,
             "#de77ae"
            ],
            [
             0.3,
             "#f1b6da"
            ],
            [
             0.4,
             "#fde0ef"
            ],
            [
             0.5,
             "#f7f7f7"
            ],
            [
             0.6,
             "#e6f5d0"
            ],
            [
             0.7,
             "#b8e186"
            ],
            [
             0.8,
             "#7fbc41"
            ],
            [
             0.9,
             "#4d9221"
            ],
            [
             1,
             "#276419"
            ]
           ],
           "sequential": [
            [
             0,
             "#0d0887"
            ],
            [
             0.1111111111111111,
             "#46039f"
            ],
            [
             0.2222222222222222,
             "#7201a8"
            ],
            [
             0.3333333333333333,
             "#9c179e"
            ],
            [
             0.4444444444444444,
             "#bd3786"
            ],
            [
             0.5555555555555556,
             "#d8576b"
            ],
            [
             0.6666666666666666,
             "#ed7953"
            ],
            [
             0.7777777777777778,
             "#fb9f3a"
            ],
            [
             0.8888888888888888,
             "#fdca26"
            ],
            [
             1,
             "#f0f921"
            ]
           ],
           "sequentialminus": [
            [
             0,
             "#0d0887"
            ],
            [
             0.1111111111111111,
             "#46039f"
            ],
            [
             0.2222222222222222,
             "#7201a8"
            ],
            [
             0.3333333333333333,
             "#9c179e"
            ],
            [
             0.4444444444444444,
             "#bd3786"
            ],
            [
             0.5555555555555556,
             "#d8576b"
            ],
            [
             0.6666666666666666,
             "#ed7953"
            ],
            [
             0.7777777777777778,
             "#fb9f3a"
            ],
            [
             0.8888888888888888,
             "#fdca26"
            ],
            [
             1,
             "#f0f921"
            ]
           ]
          },
          "colorway": [
           "#636efa",
           "#EF553B",
           "#00cc96",
           "#ab63fa",
           "#FFA15A",
           "#19d3f3",
           "#FF6692",
           "#B6E880",
           "#FF97FF",
           "#FECB52"
          ],
          "font": {
           "color": "#2a3f5f"
          },
          "geo": {
           "bgcolor": "white",
           "lakecolor": "white",
           "landcolor": "#E5ECF6",
           "showlakes": true,
           "showland": true,
           "subunitcolor": "white"
          },
          "hoverlabel": {
           "align": "left"
          },
          "hovermode": "closest",
          "mapbox": {
           "style": "light"
          },
          "paper_bgcolor": "white",
          "plot_bgcolor": "#E5ECF6",
          "polar": {
           "angularaxis": {
            "gridcolor": "white",
            "linecolor": "white",
            "ticks": ""
           },
           "bgcolor": "#E5ECF6",
           "radialaxis": {
            "gridcolor": "white",
            "linecolor": "white",
            "ticks": ""
           }
          },
          "scene": {
           "xaxis": {
            "backgroundcolor": "#E5ECF6",
            "gridcolor": "white",
            "gridwidth": 2,
            "linecolor": "white",
            "showbackground": true,
            "ticks": "",
            "zerolinecolor": "white"
           },
           "yaxis": {
            "backgroundcolor": "#E5ECF6",
            "gridcolor": "white",
            "gridwidth": 2,
            "linecolor": "white",
            "showbackground": true,
            "ticks": "",
            "zerolinecolor": "white"
           },
           "zaxis": {
            "backgroundcolor": "#E5ECF6",
            "gridcolor": "white",
            "gridwidth": 2,
            "linecolor": "white",
            "showbackground": true,
            "ticks": "",
            "zerolinecolor": "white"
           }
          },
          "shapedefaults": {
           "line": {
            "color": "#2a3f5f"
           }
          },
          "ternary": {
           "aaxis": {
            "gridcolor": "white",
            "linecolor": "white",
            "ticks": ""
           },
           "baxis": {
            "gridcolor": "white",
            "linecolor": "white",
            "ticks": ""
           },
           "bgcolor": "#E5ECF6",
           "caxis": {
            "gridcolor": "white",
            "linecolor": "white",
            "ticks": ""
           }
          },
          "title": {
           "x": 0.05
          },
          "xaxis": {
           "automargin": true,
           "gridcolor": "white",
           "linecolor": "white",
           "ticks": "",
           "title": {
            "standoff": 15
           },
           "zerolinecolor": "white",
           "zerolinewidth": 2
          },
          "yaxis": {
           "automargin": true,
           "gridcolor": "white",
           "linecolor": "white",
           "ticks": "",
           "title": {
            "standoff": 15
           },
           "zerolinecolor": "white",
           "zerolinewidth": 2
          }
         }
        },
        "title": {
         "text": "CO2 emissions vs. GDP per capita in 1967",
         "x": 0.5,
         "xanchor": "center"
        },
        "xaxis": {
         "title": {
          "text": "GDP per capita"
         },
         "type": "log"
        },
        "yaxis": {
         "title": {
          "text": "CO2 emissions [tons per capita]"
         },
         "type": "log"
        }
       }
      },
      "text/html": [
       "<div>                            <div id=\"58dc3c57-a8e8-4aa9-b8c5-62fb0656d5c0\" class=\"plotly-graph-div\" style=\"height:525px; width:100%;\"></div>            <script type=\"text/javascript\">                require([\"plotly\"], function(Plotly) {                    window.PLOTLYENV=window.PLOTLYENV || {};                                    if (document.getElementById(\"58dc3c57-a8e8-4aa9-b8c5-62fb0656d5c0\")) {                    Plotly.newPlot(                        \"58dc3c57-a8e8-4aa9-b8c5-62fb0656d5c0\",                        [{\"hovertext\": [\"Algeria\", \"Angola\", \"Benin\", \"Burkina Faso\", \"Burundi\", \"Cameroon\", \"Central African Republic\", \"Chad\", \"Comoros\", \"Cote d'Ivoire\", \"Djibouti\", \"Equatorial Guinea\", \"Ethiopia\", \"Gabon\", \"Ghana\", \"Guinea\", \"Guinea-Bissau\", \"Kenya\", \"Liberia\", \"Libya\", \"Madagascar\", \"Malawi\", \"Mali\", \"Mauritania\", \"Mauritius\", \"Morocco\", \"Mozambique\", \"Niger\", \"Nigeria\", \"Rwanda\", \"Sao Tome and Principe\", \"Senegal\", \"Sierra Leone\", \"Somalia\", \"South Africa\", \"Sudan\", \"Swaziland\", \"Tanzania\", \"Togo\", \"Tunisia\", \"Uganda\", \"Zambia\", \"Zimbabwe\"], \"marker\": {\"size\": [12760499.0, 5247469.0, 2427334.0, 5127935.0, 3330989.0, 6335506.0, 1733638.0, 3495967.0, 217378.0, 4744870.0, 127617.0, 259864.0, 27860297.0, 489004.0, 8490213.0, 3451418.0, 601287.0, 10191512.0, 1279406.0, 1759224.0, 6334556.0, 4147252.0, 5212416.0, 1230542.0, 789309.0, 14770296.0, 8680909.0, 4534062.0, 47287752.0, 3451079.0, 70787.0, 3965841.0, 2662190.0, 3428839.0, 20997321.0, 12716129.0, 420690.0, 12607312.0, 1735550.0, 4786986.0, 8900294.0, 3900000.0, 4995432.0], \"sizemin\": 2, \"sizemode\": \"area\", \"sizeref\": 150910.0}, \"mode\": \"markers\", \"name\": \"Africa\", \"type\": \"scatter\", \"x\": [3246.991771, 5522.776375, 1035.831411, 794.8265597, 412.97751360000007, 1508.453148, 1136.056615, 1196.810565, 1876.029643, 2052.050473, 3020.050513, 915.5960025, 516.1186438, 8358.761987, 1125.69716, 708.7595409, 715.5806402000002, 1056.736457, 713.6036482999998, 18772.75169, 1634.047282, 495.5147806, 545.0098873, 1421.145193, 2475.387562, 1711.04477, 566.6691539, 1054.384891, 1014.514104, 510.9637142, 1384.840593, 1612.404632, 1206.043465, 1284.7331800000004, 7114.477970999998, 1687.997641, 2613.101665, 848.2186575, 1477.59676, 1932.3601670000005, 908.9185217, 1777.077318, 569.7950712], \"y\": [0.632118426889, 0.166658588848, 0.052319596114800006, 0.019216847400900003, 0.014735442989100001, 0.0729810151442, 0.0533441408437, 0.034149082700299996, 0.0856623590204, 0.324270273072, 0.669756398256, 0.0908814105401, 0.0408827807982, 1.82744493336, 0.18568374429499998, 0.180529006335, 0.0707397168393, 0.266146233454, 0.46565291810099996, 9.94130993774, 0.138895338975, 0.08603915567600001, 0.0392007077217, 0.18817905795499998, 0.6361795955439999, 0.3615857767970001, 0.216165510896, 0.0318543481335, 0.24468289058200002, 0.011800265218499998, 0.16207973598099998, 0.181319271624, 0.105440879922, 0.0704483235701, 6.46564779364, 0.250771072594, 0.55253014742, 0.141879278158, 0.10672264605000001, 0.638870927594, 0.0944460734361, 1.2636279603, 1.12296052314]}, {\"hovertext\": [\"Argentina\", \"Bolivia\", \"Brazil\", \"Canada\", \"Chile\", \"Colombia\", \"Costa Rica\", \"Cuba\", \"Dominican Republic\", \"Ecuador\", \"El Salvador\", \"Guatemala\", \"Haiti\", \"Honduras\", \"Jamaica\", \"Mexico\", \"Nicaragua\", \"Panama\", \"Paraguay\", \"Peru\", \"Trinidad and Tobago\", \"United States\", \"Uruguay\"], \"marker\": {\"size\": [22934225.0, 4040665.0, 88049823.0, 20819767.0, 8858908.0, 19764027.0, 1588717.0, 8139332.0, 4049146.0, 5432424.0, 3232927.0, 4690773.0, 4318137.0, 2500689.0, 1861096.0, 47995559.0, 1865490.0, 1405486.0, 2287985.0, 12132200.0, 960155.0, 198712000.0, 2748579.0], \"sizemin\": 2, \"sizemode\": \"area\", \"sizeref\": 150910.0}, \"mode\": \"markers\", \"name\": \"Americas\", \"type\": \"scatter\", \"x\": [8052.953020999998, 2586.886053, 3429.864357, 16076.58803, 5106.654313, 2678.729839, 4161.727834, 5690.268015, 1653.7230029999996, 4579.074215, 4358.595393, 3242.531147, 1452.057666, 2538.269358, 6124.7034509999985, 5754.733883, 4643.393534000002, 4421.009084, 2299.376311, 5788.09333, 5621.368472, 19530.36557, 5444.61962], \"y\": [2.85816254619, 0.446569679542, 0.744966530874, 13.8103545953, 2.1409901271900003, 1.21683476874, 0.517145991263, 1.90593276713, 0.38046916116400004, 0.46578197097199997, 0.342459705043, 0.397317380131, 0.0585660070754, 0.352498584235, 2.1446334617800002, 1.8996986330400003, 0.493983688604, 1.21812383412, 0.21301339678599998, 1.1118562074299998, 5.00989828473, 18.5983178822, 1.77610139003]}, {\"hovertext\": [\"Afghanistan\", \"Bahrain\", \"Cambodia\", \"China\", \"India\", \"Indonesia\", \"Iraq\", \"Israel\", \"Japan\", \"Jordan\", \"Kuwait\", \"Lebanon\", \"Mongolia\", \"Myanmar\", \"Nepal\", \"Oman\", \"Pakistan\", \"Philippines\", \"Saudi Arabia\", \"Singapore\", \"Sri Lanka\", \"Thailand\", \"Vietnam\"], \"marker\": {\"size\": [11537966.0, 202182.0, 6960067.0, 754550000.0, 506000000.0, 109343000.0, 8519282.0, 2693585.0, 100825279.0, 1255058.0, 575003.0, 2186894.0, 1149500.0, 25870271.0, 11261690.0, 714775.0, 60641899.0, 35356600.0, 5618198.0, 1977600.0, 11737396.0, 34024249.0, 39463910.0], \"sizemin\": 2, \"sizemode\": \"area\", \"sizeref\": 150910.0}, \"mode\": \"markers\", \"name\": \"Asia\", \"type\": \"scatter\", \"x\": [836.1971382, 14804.6727, 523.4323142, 612.7056934, 700.7706107000001, 762.4317721, 8931.459811, 8393.741404, 9847.788607, 2741.796252, 80894.88326, 6006.983042, 1226.04113, 349.0, 676.4422254, 4720.942687, 942.4082588, 1814.12743, 16903.04886, 4977.41854, 1135.514326, 1295.46066, 637.1232887], \"y\": [0.12378238142100001, 5.12101242081, 0.0624360387486, 0.574162146975, 0.331763432432, 0.23191547809000002, 2.05575631533, 4.93341748634, 4.86355784562, 1.0719834839700002, 43.428302701599996, 1.64225486815, 1.83477215037, 0.143519517019, 0.0188098863912, 0.205537806177, 0.40252233230499995, 0.555413076261, 4.90876421118, 1.54645934466, 0.25192412202, 0.36020267329800004, 0.574906353177]}, {\"hovertext\": [\"Albania\", \"Austria\", \"Belgium\", \"Bulgaria\", \"Denmark\", \"Finland\", \"France\", \"Greece\", \"Hungary\", \"Iceland\", \"Ireland\", \"Italy\", \"Netherlands\", \"Norway\", \"Poland\", \"Portugal\", \"Romania\", \"Spain\", \"Sweden\", \"Switzerland\", \"Turkey\", \"United Kingdom\"], \"marker\": {\"size\": [1984060.0, 7376998.0, 9556500.0, 8310226.0, 4838800.0, 4605744.0, 49569000.0, 8716441.0, 10223422.0, 198676.0, 2900100.0, 52667100.0, 12596822.0, 3786019.0, 31785378.0, 9103000.0, 19284814.0, 32850275.0, 7867931.0, 6063000.0, 33411317.0, 54959000.0], \"sizemin\": 2, \"sizemode\": \"area\", \"sizeref\": 150910.0}, \"mode\": \"markers\", \"name\": \"Europe\", \"type\": \"scatter\", \"x\": [2760.196931, 12834.6024, 13149.04119, 5577.0028, 15937.21123, 10921.63626, 12999.91766, 8513.097016, 9326.64467, 13319.89568, 7655.568963, 10022.40131, 15363.25136, 16361.87647, 6557.152776, 6361.517993, 6470.866545, 7993.512294, 15258.29697, 22966.14432, 2826.3563870000007, 14142.85089], \"y\": [1.36374630011, 5.41773672705, 11.2172567535, 6.63836916108, 10.1493005476, 6.21338658857, 7.3064221599, 2.24941398567, 5.758242269149999, 7.269387323839999, 5.65504728764, 4.43148255688, 8.47605463669, 5.1072949704, 8.105834013680001, 1.39828723131, 4.71631855487, 2.64722755876, 8.770023402589999, 5.43460087436, 1.03313907211, 10.7841045545]}, {\"hovertext\": [\"Australia\", \"New Zealand\"], \"marker\": {\"size\": [11872264.0, 2728150.0], \"sizemin\": 2, \"sizemode\": \"area\", \"sizeref\": 150910.0}, \"mode\": \"markers\", \"name\": \"Oceania\", \"type\": \"scatter\", \"x\": [14526.12465, 14463.918930000002], \"y\": [10.955624798699999, 5.00761352373]}],                        {\"template\": {\"data\": {\"bar\": [{\"error_x\": {\"color\": \"#2a3f5f\"}, \"error_y\": {\"color\": \"#2a3f5f\"}, \"marker\": {\"line\": {\"color\": \"#E5ECF6\", \"width\": 0.5}}, \"type\": \"bar\"}], \"barpolar\": [{\"marker\": {\"line\": {\"color\": \"#E5ECF6\", \"width\": 0.5}}, \"type\": \"barpolar\"}], \"carpet\": [{\"aaxis\": {\"endlinecolor\": \"#2a3f5f\", \"gridcolor\": \"white\", \"linecolor\": \"white\", \"minorgridcolor\": \"white\", \"startlinecolor\": \"#2a3f5f\"}, \"baxis\": {\"endlinecolor\": \"#2a3f5f\", \"gridcolor\": \"white\", \"linecolor\": \"white\", \"minorgridcolor\": \"white\", \"startlinecolor\": \"#2a3f5f\"}, \"type\": \"carpet\"}], \"choropleth\": [{\"colorbar\": {\"outlinewidth\": 0, \"ticks\": \"\"}, \"type\": \"choropleth\"}], \"contour\": [{\"colorbar\": {\"outlinewidth\": 0, \"ticks\": \"\"}, \"colorscale\": [[0.0, \"#0d0887\"], [0.1111111111111111, \"#46039f\"], [0.2222222222222222, \"#7201a8\"], [0.3333333333333333, \"#9c179e\"], [0.4444444444444444, \"#bd3786\"], [0.5555555555555556, \"#d8576b\"], [0.6666666666666666, \"#ed7953\"], [0.7777777777777778, \"#fb9f3a\"], [0.8888888888888888, \"#fdca26\"], [1.0, \"#f0f921\"]], \"type\": \"contour\"}], \"contourcarpet\": [{\"colorbar\": {\"outlinewidth\": 0, \"ticks\": \"\"}, \"type\": \"contourcarpet\"}], \"heatmap\": [{\"colorbar\": {\"outlinewidth\": 0, \"ticks\": \"\"}, \"colorscale\": [[0.0, \"#0d0887\"], [0.1111111111111111, \"#46039f\"], [0.2222222222222222, \"#7201a8\"], [0.3333333333333333, \"#9c179e\"], [0.4444444444444444, \"#bd3786\"], [0.5555555555555556, \"#d8576b\"], [0.6666666666666666, \"#ed7953\"], [0.7777777777777778, \"#fb9f3a\"], [0.8888888888888888, \"#fdca26\"], [1.0, \"#f0f921\"]], \"type\": \"heatmap\"}], \"heatmapgl\": [{\"colorbar\": {\"outlinewidth\": 0, \"ticks\": \"\"}, \"colorscale\": [[0.0, \"#0d0887\"], [0.1111111111111111, \"#46039f\"], [0.2222222222222222, \"#7201a8\"], [0.3333333333333333, \"#9c179e\"], [0.4444444444444444, \"#bd3786\"], [0.5555555555555556, \"#d8576b\"], [0.6666666666666666, \"#ed7953\"], [0.7777777777777778, \"#fb9f3a\"], [0.8888888888888888, \"#fdca26\"], [1.0, \"#f0f921\"]], \"type\": \"heatmapgl\"}], \"histogram\": [{\"marker\": {\"colorbar\": {\"outlinewidth\": 0, \"ticks\": \"\"}}, \"type\": \"histogram\"}], \"histogram2d\": [{\"colorbar\": {\"outlinewidth\": 0, \"ticks\": \"\"}, \"colorscale\": [[0.0, \"#0d0887\"], [0.1111111111111111, \"#46039f\"], [0.2222222222222222, \"#7201a8\"], [0.3333333333333333, \"#9c179e\"], [0.4444444444444444, \"#bd3786\"], [0.5555555555555556, \"#d8576b\"], [0.6666666666666666, \"#ed7953\"], [0.7777777777777778, \"#fb9f3a\"], [0.8888888888888888, \"#fdca26\"], [1.0, \"#f0f921\"]], \"type\": \"histogram2d\"}], \"histogram2dcontour\": [{\"colorbar\": {\"outlinewidth\": 0, \"ticks\": \"\"}, \"colorscale\": [[0.0, \"#0d0887\"], [0.1111111111111111, \"#46039f\"], [0.2222222222222222, \"#7201a8\"], [0.3333333333333333, \"#9c179e\"], [0.4444444444444444, \"#bd3786\"], [0.5555555555555556, \"#d8576b\"], [0.6666666666666666, \"#ed7953\"], [0.7777777777777778, \"#fb9f3a\"], [0.8888888888888888, \"#fdca26\"], [1.0, \"#f0f921\"]], \"type\": \"histogram2dcontour\"}], \"mesh3d\": [{\"colorbar\": {\"outlinewidth\": 0, \"ticks\": \"\"}, \"type\": \"mesh3d\"}], \"parcoords\": [{\"line\": {\"colorbar\": {\"outlinewidth\": 0, \"ticks\": \"\"}}, \"type\": \"parcoords\"}], \"pie\": [{\"automargin\": true, \"type\": \"pie\"}], \"scatter\": [{\"marker\": {\"colorbar\": {\"outlinewidth\": 0, \"ticks\": \"\"}}, \"type\": \"scatter\"}], \"scatter3d\": [{\"line\": {\"colorbar\": {\"outlinewidth\": 0, \"ticks\": \"\"}}, \"marker\": {\"colorbar\": {\"outlinewidth\": 0, \"ticks\": \"\"}}, \"type\": \"scatter3d\"}], \"scattercarpet\": [{\"marker\": {\"colorbar\": {\"outlinewidth\": 0, \"ticks\": \"\"}}, \"type\": \"scattercarpet\"}], \"scattergeo\": [{\"marker\": {\"colorbar\": {\"outlinewidth\": 0, \"ticks\": \"\"}}, \"type\": \"scattergeo\"}], \"scattergl\": [{\"marker\": {\"colorbar\": {\"outlinewidth\": 0, \"ticks\": \"\"}}, \"type\": \"scattergl\"}], \"scattermapbox\": [{\"marker\": {\"colorbar\": {\"outlinewidth\": 0, \"ticks\": \"\"}}, \"type\": \"scattermapbox\"}], \"scatterpolar\": [{\"marker\": {\"colorbar\": {\"outlinewidth\": 0, \"ticks\": \"\"}}, \"type\": \"scatterpolar\"}], \"scatterpolargl\": [{\"marker\": {\"colorbar\": {\"outlinewidth\": 0, \"ticks\": \"\"}}, \"type\": \"scatterpolargl\"}], \"scatterternary\": [{\"marker\": {\"colorbar\": {\"outlinewidth\": 0, \"ticks\": \"\"}}, \"type\": \"scatterternary\"}], \"surface\": [{\"colorbar\": {\"outlinewidth\": 0, \"ticks\": \"\"}, \"colorscale\": [[0.0, \"#0d0887\"], [0.1111111111111111, \"#46039f\"], [0.2222222222222222, \"#7201a8\"], [0.3333333333333333, \"#9c179e\"], [0.4444444444444444, \"#bd3786\"], [0.5555555555555556, \"#d8576b\"], [0.6666666666666666, \"#ed7953\"], [0.7777777777777778, \"#fb9f3a\"], [0.8888888888888888, \"#fdca26\"], [1.0, \"#f0f921\"]], \"type\": \"surface\"}], \"table\": [{\"cells\": {\"fill\": {\"color\": \"#EBF0F8\"}, \"line\": {\"color\": \"white\"}}, \"header\": {\"fill\": {\"color\": \"#C8D4E3\"}, \"line\": {\"color\": \"white\"}}, \"type\": \"table\"}]}, \"layout\": {\"annotationdefaults\": {\"arrowcolor\": \"#2a3f5f\", \"arrowhead\": 0, \"arrowwidth\": 1}, \"autotypenumbers\": \"strict\", \"coloraxis\": {\"colorbar\": {\"outlinewidth\": 0, \"ticks\": \"\"}}, \"colorscale\": {\"diverging\": [[0, \"#8e0152\"], [0.1, \"#c51b7d\"], [0.2, \"#de77ae\"], [0.3, \"#f1b6da\"], [0.4, \"#fde0ef\"], [0.5, \"#f7f7f7\"], [0.6, \"#e6f5d0\"], [0.7, \"#b8e186\"], [0.8, \"#7fbc41\"], [0.9, \"#4d9221\"], [1, \"#276419\"]], \"sequential\": [[0.0, \"#0d0887\"], [0.1111111111111111, \"#46039f\"], [0.2222222222222222, \"#7201a8\"], [0.3333333333333333, \"#9c179e\"], [0.4444444444444444, \"#bd3786\"], [0.5555555555555556, \"#d8576b\"], [0.6666666666666666, \"#ed7953\"], [0.7777777777777778, \"#fb9f3a\"], [0.8888888888888888, \"#fdca26\"], [1.0, \"#f0f921\"]], \"sequentialminus\": [[0.0, \"#0d0887\"], [0.1111111111111111, \"#46039f\"], [0.2222222222222222, \"#7201a8\"], [0.3333333333333333, \"#9c179e\"], [0.4444444444444444, \"#bd3786\"], [0.5555555555555556, \"#d8576b\"], [0.6666666666666666, \"#ed7953\"], [0.7777777777777778, \"#fb9f3a\"], [0.8888888888888888, \"#fdca26\"], [1.0, \"#f0f921\"]]}, \"colorway\": [\"#636efa\", \"#EF553B\", \"#00cc96\", \"#ab63fa\", \"#FFA15A\", \"#19d3f3\", \"#FF6692\", \"#B6E880\", \"#FF97FF\", \"#FECB52\"], \"font\": {\"color\": \"#2a3f5f\"}, \"geo\": {\"bgcolor\": \"white\", \"lakecolor\": \"white\", \"landcolor\": \"#E5ECF6\", \"showlakes\": true, \"showland\": true, \"subunitcolor\": \"white\"}, \"hoverlabel\": {\"align\": \"left\"}, \"hovermode\": \"closest\", \"mapbox\": {\"style\": \"light\"}, \"paper_bgcolor\": \"white\", \"plot_bgcolor\": \"#E5ECF6\", \"polar\": {\"angularaxis\": {\"gridcolor\": \"white\", \"linecolor\": \"white\", \"ticks\": \"\"}, \"bgcolor\": \"#E5ECF6\", \"radialaxis\": {\"gridcolor\": \"white\", \"linecolor\": \"white\", \"ticks\": \"\"}}, \"scene\": {\"xaxis\": {\"backgroundcolor\": \"#E5ECF6\", \"gridcolor\": \"white\", \"gridwidth\": 2, \"linecolor\": \"white\", \"showbackground\": true, \"ticks\": \"\", \"zerolinecolor\": \"white\"}, \"yaxis\": {\"backgroundcolor\": \"#E5ECF6\", \"gridcolor\": \"white\", \"gridwidth\": 2, \"linecolor\": \"white\", \"showbackground\": true, \"ticks\": \"\", \"zerolinecolor\": \"white\"}, \"zaxis\": {\"backgroundcolor\": \"#E5ECF6\", \"gridcolor\": \"white\", \"gridwidth\": 2, \"linecolor\": \"white\", \"showbackground\": true, \"ticks\": \"\", \"zerolinecolor\": \"white\"}}, \"shapedefaults\": {\"line\": {\"color\": \"#2a3f5f\"}}, \"ternary\": {\"aaxis\": {\"gridcolor\": \"white\", \"linecolor\": \"white\", \"ticks\": \"\"}, \"baxis\": {\"gridcolor\": \"white\", \"linecolor\": \"white\", \"ticks\": \"\"}, \"bgcolor\": \"#E5ECF6\", \"caxis\": {\"gridcolor\": \"white\", \"linecolor\": \"white\", \"ticks\": \"\"}}, \"title\": {\"x\": 0.05}, \"xaxis\": {\"automargin\": true, \"gridcolor\": \"white\", \"linecolor\": \"white\", \"ticks\": \"\", \"title\": {\"standoff\": 15}, \"zerolinecolor\": \"white\", \"zerolinewidth\": 2}, \"yaxis\": {\"automargin\": true, \"gridcolor\": \"white\", \"linecolor\": \"white\", \"ticks\": \"\", \"title\": {\"standoff\": 15}, \"zerolinecolor\": \"white\", \"zerolinewidth\": 2}}}, \"title\": {\"text\": \"CO2 emissions vs. GDP per capita in 1967\", \"x\": 0.5, \"xanchor\": \"center\"}, \"xaxis\": {\"title\": {\"text\": \"GDP per capita\"}, \"type\": \"log\"}, \"yaxis\": {\"title\": {\"text\": \"CO2 emissions [tons per capita]\"}, \"type\": \"log\"}},                        {\"responsive\": true}                    ).then(function(){\n",
       "                            \n",
       "var gd = document.getElementById('58dc3c57-a8e8-4aa9-b8c5-62fb0656d5c0');\n",
       "var x = new MutationObserver(function (mutations, observer) {{\n",
       "        var display = window.getComputedStyle(gd).display;\n",
       "        if (!display || display === 'none') {{\n",
       "            console.log([gd, 'removed!']);\n",
       "            Plotly.purge(gd);\n",
       "            observer.disconnect();\n",
       "        }}\n",
       "}});\n",
       "\n",
       "// Listen for the removal of the full notebook cells\n",
       "var notebookContainer = gd.closest('#notebook-container');\n",
       "if (notebookContainer) {{\n",
       "    x.observe(notebookContainer, {childList: true});\n",
       "}}\n",
       "\n",
       "// Listen for the clearing of the current output cell\n",
       "var outputEl = gd.closest('.output');\n",
       "if (outputEl) {{\n",
       "    x.observe(outputEl, {childList: true});\n",
       "}}\n",
       "\n",
       "                        })                };                });            </script>        </div>"
      ]
     },
     "metadata": {},
     "output_type": "display_data"
    }
   ],
   "source": [
    "# Filter and clean the GDP and emissions data for 1967\n",
    "gapminder_1967 = gapminder[gapminder['Year'] == 1967].dropna(subset = ['gdpPercap', 'CO2 emissions (metric tons per capita)'])\n",
    "\n",
    "# Create plotly interactive bubble plot\n",
    "# Plotly tutorial I used for this: https://plotly.com/python/bubble-charts/#categorical-bubble-charts\n",
    "# Kaggle plotly tutorial that's useful to understand the syntax: https://www.kaggle.com/kanncaa1/plotly-tutorial-for-beginners\n",
    "\n",
    "# Create a reference to scale bubble sizes by\n",
    "sizeref = 2*gapminder_1967['pop'].max()/(100**2) # 2 * max(array of size values)/(desired max size ** 2)\n",
    "\n",
    "# Create a dictionary of continent-specific DataFrames\n",
    "continents = np.unique(gapminder_1967['continent'].values)  #set the array of unique continents\n",
    "gapminder_by_continent = {'Africa': gapminder_1967[gapminder_1967['continent'] == 'Africa'], \n",
    "                          'Americas': gapminder_1967[gapminder_1967['continent'] == 'Americas'], \n",
    "                          'Asia': gapminder_1967[gapminder_1967['continent'] == 'Asia'], \n",
    "                          'Europe': gapminder_1967[gapminder_1967['continent'] == 'Europe'], \n",
    "                          'Oceania': gapminder_1967[gapminder_1967['continent'] == 'Oceania']}\n",
    "# Create empty figure\n",
    "fig1 = go.Figure()\n",
    "\n",
    "# Create a scatter trace for each continent\n",
    "for continent_name, continent in gapminder_by_continent.items():\n",
    "    fig1.add_trace(go.Scatter(x = continent['gdpPercap'],\n",
    "                              y = continent['CO2 emissions (metric tons per capita)'],\n",
    "                              name = continent_name,\n",
    "                              mode = 'markers',\n",
    "                              marker_size = continent['pop'],\n",
    "                              hovertext = continent['Country Name']))\n",
    "\n",
    "# Update traces to scale all bubbles\n",
    "fig1.update_traces(mode = 'markers', marker = dict(sizemode = 'area', sizeref = sizeref, sizemin = 2))\n",
    "\n",
    "# Include layout options\n",
    "fig1.update_layout(title = dict(text = 'CO2 emissions vs. GDP per capita in 1967', x = 0.5, xanchor = 'center'), \n",
    "                   xaxis = dict(title = 'GDP per capita', type = 'log'), \n",
    "                   yaxis = dict(title = 'CO2 emissions [tons per capita]', type = 'log'))\n",
    "\n",
    "fig1.show()"
   ]
  },
  {
   "cell_type": "markdown",
   "metadata": {},
   "source": [
    "## 6. The relationship between continents and energy usage\n",
    "\n",
    "Due to the incomplete dataset, we will first generate tables with the mean energy usage per continent and the number of countries in each continent from which we have data for each year. We will then create a bar graph for each year plotting the mean energy usage per continent.\n",
    "\n",
    "We can see that across all years, there appears to be an effect of the `continent` variable on average energy usage. The first two time points, 1962 and 1967, are outliers in two senses: Firstly, there is no data for Africa and only one country for Asia in these years, and the Americas appear to have an unusually large energy consumption. However, when we consult the table with the number of countries with data in each year, we see that the Americas only have data for two countries in these first two years. These countries are the USA and Canada, which have high energy consumption. In later years, when central and south American countries contribute to the average, the Americas' energy consumption is between those of Africa and Asia.\n",
    "\n",
    "We will now quantify this relationship between continent and ernegy usage. Given that we don't have a great deal of data for the first two time points don't have a lot of data, we will restrict our analysis to the years 1972 and onwards. One-way ANOVA (using the `f_oneway` function from `scipy.stats`) shows that there is a statistically significant main effect of the `continent` variable on energy usage at all investigated time points."
   ]
  },
  {
   "cell_type": "code",
   "execution_count": 31,
   "metadata": {},
   "outputs": [
    {
     "data": {
      "text/html": [
       "<div>\n",
       "<style scoped>\n",
       "    .dataframe tbody tr th:only-of-type {\n",
       "        vertical-align: middle;\n",
       "    }\n",
       "\n",
       "    .dataframe tbody tr th {\n",
       "        vertical-align: top;\n",
       "    }\n",
       "\n",
       "    .dataframe thead th {\n",
       "        text-align: right;\n",
       "    }\n",
       "</style>\n",
       "<table border=\"1\" class=\"dataframe\">\n",
       "  <thead>\n",
       "    <tr style=\"text-align: right;\">\n",
       "      <th>Year</th>\n",
       "      <th>1962</th>\n",
       "      <th>1967</th>\n",
       "      <th>1972</th>\n",
       "      <th>1977</th>\n",
       "      <th>1982</th>\n",
       "      <th>1987</th>\n",
       "      <th>1992</th>\n",
       "      <th>1997</th>\n",
       "      <th>2002</th>\n",
       "      <th>2007</th>\n",
       "    </tr>\n",
       "    <tr>\n",
       "      <th>continent</th>\n",
       "      <th></th>\n",
       "      <th></th>\n",
       "      <th></th>\n",
       "      <th></th>\n",
       "      <th></th>\n",
       "      <th></th>\n",
       "      <th></th>\n",
       "      <th></th>\n",
       "      <th></th>\n",
       "      <th></th>\n",
       "    </tr>\n",
       "  </thead>\n",
       "  <tbody>\n",
       "    <tr>\n",
       "      <th>Africa</th>\n",
       "      <td>0</td>\n",
       "      <td>0</td>\n",
       "      <td>22</td>\n",
       "      <td>22</td>\n",
       "      <td>23</td>\n",
       "      <td>23</td>\n",
       "      <td>25</td>\n",
       "      <td>25</td>\n",
       "      <td>26</td>\n",
       "      <td>33</td>\n",
       "    </tr>\n",
       "    <tr>\n",
       "      <th>Americas</th>\n",
       "      <td>2</td>\n",
       "      <td>2</td>\n",
       "      <td>23</td>\n",
       "      <td>23</td>\n",
       "      <td>23</td>\n",
       "      <td>23</td>\n",
       "      <td>23</td>\n",
       "      <td>23</td>\n",
       "      <td>23</td>\n",
       "      <td>23</td>\n",
       "    </tr>\n",
       "    <tr>\n",
       "      <th>Asia</th>\n",
       "      <td>1</td>\n",
       "      <td>1</td>\n",
       "      <td>22</td>\n",
       "      <td>22</td>\n",
       "      <td>22</td>\n",
       "      <td>23</td>\n",
       "      <td>22</td>\n",
       "      <td>24</td>\n",
       "      <td>24</td>\n",
       "      <td>24</td>\n",
       "    </tr>\n",
       "    <tr>\n",
       "      <th>Europe</th>\n",
       "      <td>19</td>\n",
       "      <td>20</td>\n",
       "      <td>25</td>\n",
       "      <td>25</td>\n",
       "      <td>25</td>\n",
       "      <td>25</td>\n",
       "      <td>29</td>\n",
       "      <td>29</td>\n",
       "      <td>29</td>\n",
       "      <td>30</td>\n",
       "    </tr>\n",
       "    <tr>\n",
       "      <th>Oceania</th>\n",
       "      <td>2</td>\n",
       "      <td>2</td>\n",
       "      <td>2</td>\n",
       "      <td>2</td>\n",
       "      <td>2</td>\n",
       "      <td>2</td>\n",
       "      <td>2</td>\n",
       "      <td>2</td>\n",
       "      <td>2</td>\n",
       "      <td>2</td>\n",
       "    </tr>\n",
       "  </tbody>\n",
       "</table>\n",
       "</div>"
      ],
      "text/plain": [
       "Year       1962  1967  1972  1977  1982  1987  1992  1997  2002  2007\n",
       "continent                                                            \n",
       "Africa        0     0    22    22    23    23    25    25    26    33\n",
       "Americas      2     2    23    23    23    23    23    23    23    23\n",
       "Asia          1     1    22    22    22    23    22    24    24    24\n",
       "Europe       19    20    25    25    25    25    29    29    29    30\n",
       "Oceania       2     2     2     2     2     2     2     2     2     2"
      ]
     },
     "metadata": {},
     "output_type": "display_data"
    },
    {
     "data": {
      "text/html": [
       "<div>\n",
       "<style scoped>\n",
       "    .dataframe tbody tr th:only-of-type {\n",
       "        vertical-align: middle;\n",
       "    }\n",
       "\n",
       "    .dataframe tbody tr th {\n",
       "        vertical-align: top;\n",
       "    }\n",
       "\n",
       "    .dataframe thead th {\n",
       "        text-align: right;\n",
       "    }\n",
       "</style>\n",
       "<table border=\"1\" class=\"dataframe\">\n",
       "  <thead>\n",
       "    <tr style=\"text-align: right;\">\n",
       "      <th>Year</th>\n",
       "      <th>1962</th>\n",
       "      <th>1967</th>\n",
       "      <th>1972</th>\n",
       "      <th>1977</th>\n",
       "      <th>1982</th>\n",
       "      <th>1987</th>\n",
       "      <th>1992</th>\n",
       "      <th>1997</th>\n",
       "      <th>2002</th>\n",
       "      <th>2007</th>\n",
       "    </tr>\n",
       "    <tr>\n",
       "      <th>continent</th>\n",
       "      <th></th>\n",
       "      <th></th>\n",
       "      <th></th>\n",
       "      <th></th>\n",
       "      <th></th>\n",
       "      <th></th>\n",
       "      <th></th>\n",
       "      <th></th>\n",
       "      <th></th>\n",
       "      <th></th>\n",
       "    </tr>\n",
       "  </thead>\n",
       "  <tbody>\n",
       "    <tr>\n",
       "      <th>Africa</th>\n",
       "      <td>NaN</td>\n",
       "      <td>NaN</td>\n",
       "      <td>624.271781</td>\n",
       "      <td>669.655049</td>\n",
       "      <td>740.649440</td>\n",
       "      <td>736.564835</td>\n",
       "      <td>692.362311</td>\n",
       "      <td>720.895102</td>\n",
       "      <td>709.606764</td>\n",
       "      <td>690.342727</td>\n",
       "    </tr>\n",
       "    <tr>\n",
       "      <th>Americas</th>\n",
       "      <td>5113.073215</td>\n",
       "      <td>6183.556112</td>\n",
       "      <td>1379.249574</td>\n",
       "      <td>1458.864502</td>\n",
       "      <td>1441.674520</td>\n",
       "      <td>1480.153739</td>\n",
       "      <td>1558.675537</td>\n",
       "      <td>1657.638067</td>\n",
       "      <td>1825.013654</td>\n",
       "      <td>2141.660257</td>\n",
       "    </tr>\n",
       "    <tr>\n",
       "      <th>Asia</th>\n",
       "      <td>1003.752254</td>\n",
       "      <td>1720.549744</td>\n",
       "      <td>1193.863297</td>\n",
       "      <td>1330.101303</td>\n",
       "      <td>1624.675685</td>\n",
       "      <td>1793.860708</td>\n",
       "      <td>1808.378056</td>\n",
       "      <td>2264.899455</td>\n",
       "      <td>2322.226805</td>\n",
       "      <td>2513.263757</td>\n",
       "    </tr>\n",
       "    <tr>\n",
       "      <th>Europe</th>\n",
       "      <td>1786.923933</td>\n",
       "      <td>2178.226794</td>\n",
       "      <td>2852.799023</td>\n",
       "      <td>3161.455380</td>\n",
       "      <td>3219.131342</td>\n",
       "      <td>3593.080919</td>\n",
       "      <td>3202.796260</td>\n",
       "      <td>3414.196077</td>\n",
       "      <td>3575.239271</td>\n",
       "      <td>3721.313840</td>\n",
       "    </tr>\n",
       "    <tr>\n",
       "      <th>Oceania</th>\n",
       "      <td>2482.218093</td>\n",
       "      <td>2940.750732</td>\n",
       "      <td>3326.183702</td>\n",
       "      <td>3863.138379</td>\n",
       "      <td>3915.230457</td>\n",
       "      <td>4112.666572</td>\n",
       "      <td>4383.846070</td>\n",
       "      <td>4864.178383</td>\n",
       "      <td>4953.510758</td>\n",
       "      <td>4961.421051</td>\n",
       "    </tr>\n",
       "  </tbody>\n",
       "</table>\n",
       "</div>"
      ],
      "text/plain": [
       "Year              1962         1967         1972         1977         1982  \\\n",
       "continent                                                                    \n",
       "Africa             NaN          NaN   624.271781   669.655049   740.649440   \n",
       "Americas   5113.073215  6183.556112  1379.249574  1458.864502  1441.674520   \n",
       "Asia       1003.752254  1720.549744  1193.863297  1330.101303  1624.675685   \n",
       "Europe     1786.923933  2178.226794  2852.799023  3161.455380  3219.131342   \n",
       "Oceania    2482.218093  2940.750732  3326.183702  3863.138379  3915.230457   \n",
       "\n",
       "Year              1987         1992         1997         2002         2007  \n",
       "continent                                                                   \n",
       "Africa      736.564835   692.362311   720.895102   709.606764   690.342727  \n",
       "Americas   1480.153739  1558.675537  1657.638067  1825.013654  2141.660257  \n",
       "Asia       1793.860708  1808.378056  2264.899455  2322.226805  2513.263757  \n",
       "Europe     3593.080919  3202.796260  3414.196077  3575.239271  3721.313840  \n",
       "Oceania    4112.666572  4383.846070  4864.178383  4953.510758  4961.421051  "
      ]
     },
     "metadata": {},
     "output_type": "display_data"
    },
    {
     "data": {
      "image/png": "[encoded data removed]",
      "text/plain": [
       "<Figure size 612x792 with 10 Axes>"
      ]
     },
     "metadata": {
      "needs_background": "light"
     },
     "output_type": "display_data"
    },
    {
     "name": "stdout",
     "output_type": "stream",
     "text": [
      "F statistic for the one-way ANOVA between continent and energy use in 1972: [7.36688854]\n",
      "p-value for the one-way ANOVA between continent and energy use in 1972: [3.58384229e-05]\n",
      "\n",
      "F statistic for the one-way ANOVA between continent and energy use in 1977: [8.45567897]\n",
      "p-value for the one-way ANOVA between continent and energy use in 1977: [7.89425752e-06]\n",
      "\n",
      "F statistic for the one-way ANOVA between continent and energy use in 1982: [7.55177463]\n",
      "p-value for the one-way ANOVA between continent and energy use in 1982: [2.71800601e-05]\n",
      "\n",
      "F statistic for the one-way ANOVA between continent and energy use in 1987: [8.49593531]\n",
      "p-value for the one-way ANOVA between continent and energy use in 1987: [7.17355599e-06]\n",
      "\n",
      "F statistic for the one-way ANOVA between continent and energy use in 1992: [7.89772596]\n",
      "p-value for the one-way ANOVA between continent and energy use in 1992: [1.51266564e-05]\n",
      "\n",
      "F statistic for the one-way ANOVA between continent and energy use in 1997: [7.0573195]\n",
      "p-value for the one-way ANOVA between continent and energy use in 1997: [4.90789803e-05]\n",
      "\n",
      "F statistic for the one-way ANOVA between continent and energy use in 2002: [6.63730401]\n",
      "p-value for the one-way ANOVA between continent and energy use in 2002: [8.95607154e-05]\n",
      "\n",
      "F statistic for the one-way ANOVA between continent and energy use in 2007: [6.32844773]\n",
      "p-value for the one-way ANOVA between continent and energy use in 2007: [0.00013084]\n",
      "\n"
     ]
    }
   ],
   "source": [
    "# Gropu data by year and continent, then calculate the mean and error for energy use for each year/continent pair\n",
    "gapminder_grouped = gapminder.groupby(['Year', 'continent'])\n",
    "n = gapminder_grouped['Energy use (kg of oil equivalent per capita)'].count()\n",
    "means = gapminder_grouped['Energy use (kg of oil equivalent per capita)'].mean()\n",
    "errors = gapminder_grouped['Energy use (kg of oil equivalent per capita)'].std() / np.sqrt(gapminder_grouped['Energy use (kg of oil equivalent per capita)'].count()) # SEM\n",
    "\n",
    "# Pivot the year index into column labels and inspect the data\n",
    "n = n.unstack(level = 0)\n",
    "means = means.unstack(level = 0)\n",
    "errors = errors.unstack(level = 0)\n",
    "display(n)\n",
    "display(means)\n",
    "\n",
    "# Plot bar graphs for each year\n",
    "means.plot(yerr = errors, kind = 'bar', subplots = True, figsize = (8.5, 11), layout = (5, 2), \n",
    "           legend = False, title = 'Energy use by continent')\n",
    "plt.show()\n",
    "\n",
    "# For each year, create a clean list of energy use data per continent \n",
    "# Then perform a one-way ANOVA to determine if there is a main effect\n",
    "for year in [1972, 1977, 1982, 1987, 1992, 1997, 2002, 2007]:\n",
    "    africa = gapminder.loc[(gapminder['continent'] == 'Africa') & (gapminder['Year'] == year), \n",
    "                           ['Energy use (kg of oil equivalent per capita)']].dropna()\n",
    "\n",
    "    americas = gapminder.loc[(gapminder['continent'] == 'Americas') & (gapminder['Year'] == year), \n",
    "                             ['Energy use (kg of oil equivalent per capita)']].dropna()\n",
    "\n",
    "    asia = gapminder.loc[(gapminder['continent'] == 'Asia') & (gapminder['Year'] == year), \n",
    "                         ['Energy use (kg of oil equivalent per capita)']].dropna()\n",
    "\n",
    "    europe = gapminder.loc[(gapminder['continent'] == 'Europe') & (gapminder['Year'] == year), \n",
    "                           ['Energy use (kg of oil equivalent per capita)']].dropna()\n",
    "\n",
    "    oceania = gapminder.loc[(gapminder['continent'] == 'Oceania') & (gapminder['Year'] == year), \n",
    "                            ['Energy use (kg of oil equivalent per capita)']].dropna()\n",
    "\n",
    "    F, p = f_oneway(africa, americas, asia, europe, oceania)\n",
    "    print(\"F statistic for the one-way ANOVA between continent and energy use in \" + str(year) + \": \" + str(F))\n",
    "    print(\"p-value for the one-way ANOVA between continent and energy use in \" + str(year) + \": \" + str(p) + \"\\n\")"
   ]
  },
  {
   "cell_type": "markdown",
   "metadata": {},
   "source": [
    "## 7. Comparing Europe and Asia's imports after 1990\n",
    "\n",
    "For this analysis we will compare imports as a percentage of GDP between European and Asian countries after 1990. Since we are comparing two means, the appropriate statistical test is the Student-s t-test (the `ttest_ind` function from `scipy.stats`). For each timepoint after 1990, we collect the cleaned (non-N/A) imports data and compare them. We are not assuming equal variance in all the datasets for this analysis.\n",
    "\n",
    "The statistics show that there was no significant difference between the imports as a percentage of GDP in Europe and Asia at any time after 1990."
   ]
  },
  {
   "cell_type": "code",
   "execution_count": 32,
   "metadata": {},
   "outputs": [
    {
     "name": "stdout",
     "output_type": "stream",
     "text": [
      "t statistic for the t-test between Europe and Asia regarding import of goods in 1992: [6.32844773]\n",
      "p-value for the t-test between Europe and Asia regarding import of goods in 1992: [0.31104097]\n",
      "\n",
      "t statistic for the t-test between Europe and Asia regarding import of goods in 1997: [6.32844773]\n",
      "p-value for the t-test between Europe and Asia regarding import of goods in 1997: [0.23961665]\n",
      "\n",
      "t statistic for the t-test between Europe and Asia regarding import of goods in 2002: [6.32844773]\n",
      "p-value for the t-test between Europe and Asia regarding import of goods in 2002: [0.58908958]\n",
      "\n",
      "t statistic for the t-test between Europe and Asia regarding import of goods in 2007: [6.32844773]\n",
      "p-value for the t-test between Europe and Asia regarding import of goods in 2007: [0.95743803]\n",
      "\n"
     ]
    }
   ],
   "source": [
    "# Tried to figure out how to do ANOVA with Tukey since we have data for all continents. \n",
    "# Couldn't figure out how to do Tukey's post-hoc with different sample sizes for each continent, \n",
    "# can't figure out how to make them into an array. Went with t-test instead.\n",
    "\n",
    "\n",
    "# For each year since 1992, create clean import data series for Asia and Europe, then perform a t-test\n",
    "for year in [1992, 1997, 2002, 2007]:\n",
    "    asia = gapminder.loc[(gapminder['continent'] == 'Asia') & (gapminder['Year'] == year), \n",
    "                         ['Imports of goods and services (% of GDP)']].dropna()\n",
    "\n",
    "    europe = gapminder.loc[(gapminder['continent'] == 'Europe') & (gapminder['Year'] == year), \n",
    "                           ['Imports of goods and services (% of GDP)']].dropna()\n",
    "\n",
    "    t, p = ttest_ind(asia, europe, equal_var = False)\n",
    "    print(\"t statistic for the t-test between Europe and Asia regarding import of goods in \" + str(year) + \": \" + str(F))\n",
    "    print(\"p-value for the t-test between Europe and Asia regarding import of goods in \" + str(year) + \": \" + str(p) + \"\\n\")\n"
   ]
  },
  {
   "cell_type": "markdown",
   "metadata": {},
   "source": [
    "## 8. Finding the most densely populated country\n",
    "\n",
    "For this analysis, we are interested in the average population density ranking for all countries across all the years for which we have data. To do this, we first clean the data to omit all entries where we don't have data on population density. We then group the data by year and rank all countries by their population density within each year. Next, we calculate each country's average ranking by summing the ranks across all available timepoints and dividing by the number of available timepoints. We then sort and display the first five entries from that list. As we can see, Macao and Monaco are tied for the most densely populated countries."
   ]
  },
  {
   "cell_type": "code",
   "execution_count": 33,
   "metadata": {},
   "outputs": [
    {
     "name": "stderr",
     "output_type": "stream",
     "text": [
      "<ipython-input-33-4377e9e92f60>:3: SettingWithCopyWarning:\n",
      "\n",
      "\n",
      "A value is trying to be set on a copy of a slice from a DataFrame.\n",
      "Try using .loc[row_indexer,col_indexer] = value instead\n",
      "\n",
      "See the caveats in the documentation: https://pandas.pydata.org/pandas-docs/stable/user_guide/indexing.html#returning-a-view-versus-a-copy\n",
      "\n"
     ]
    },
    {
     "data": {
      "text/html": [
       "<div>\n",
       "<style scoped>\n",
       "    .dataframe tbody tr th:only-of-type {\n",
       "        vertical-align: middle;\n",
       "    }\n",
       "\n",
       "    .dataframe tbody tr th {\n",
       "        vertical-align: top;\n",
       "    }\n",
       "\n",
       "    .dataframe thead th {\n",
       "        text-align: right;\n",
       "    }\n",
       "</style>\n",
       "<table border=\"1\" class=\"dataframe\">\n",
       "  <thead>\n",
       "    <tr style=\"text-align: right;\">\n",
       "      <th></th>\n",
       "      <th>Average population density rank</th>\n",
       "    </tr>\n",
       "    <tr>\n",
       "      <th>Country Name</th>\n",
       "      <th></th>\n",
       "    </tr>\n",
       "  </thead>\n",
       "  <tbody>\n",
       "    <tr>\n",
       "      <th>Macao SAR, China</th>\n",
       "      <td>1.5</td>\n",
       "    </tr>\n",
       "    <tr>\n",
       "      <th>Monaco</th>\n",
       "      <td>1.5</td>\n",
       "    </tr>\n",
       "    <tr>\n",
       "      <th>Hong Kong SAR, China</th>\n",
       "      <td>3.1</td>\n",
       "    </tr>\n",
       "    <tr>\n",
       "      <th>Singapore</th>\n",
       "      <td>3.9</td>\n",
       "    </tr>\n",
       "    <tr>\n",
       "      <th>Gibraltar</th>\n",
       "      <td>5.0</td>\n",
       "    </tr>\n",
       "  </tbody>\n",
       "</table>\n",
       "</div>"
      ],
      "text/plain": [
       "                      Average population density rank\n",
       "Country Name                                         \n",
       "Macao SAR, China                                  1.5\n",
       "Monaco                                            1.5\n",
       "Hong Kong SAR, China                              3.1\n",
       "Singapore                                         3.9\n",
       "Gibraltar                                         5.0"
      ]
     },
     "metadata": {},
     "output_type": "display_data"
    }
   ],
   "source": [
    "# Create clean population density dataset and add a column ranking each country's density within a year\n",
    "gapminder_clean = gapminder.dropna(subset = ['Population density (people per sq. km of land area)'])\n",
    "gapminder_clean['pop_rank'] = gapminder_clean.groupby('Year')['Population density (people per sq. km of land area)'].rank(ascending = False)\n",
    "\n",
    "# Create an average rank for each country and display the top ranked countries\n",
    "pop_rank_avg = gapminder_clean.groupby('Country Name')['pop_rank'].sum()/gapminder_clean.groupby('Country Name')['pop_rank'].count()\n",
    "pop_rank_avg.rename(\"Average population density rank\", inplace = True)\n",
    "display(pd.DataFrame(pop_rank_avg.sort_values()).head())"
   ]
  },
  {
   "cell_type": "markdown",
   "metadata": {},
   "source": [
    "## 9. Who improved their life expectancy most?\n",
    "\n",
    "This final analysis concerns itself with life expectancy data. We want to know what country saw the largest increase in life expectancy from 1962 to 2007. We begin by pivoting the data to show only life expectancy by country and year. Next, we clean the data table to omit countries for which we don't have data for all years and inspect the resulting table. Finally, we add a column to the table containing the difference in life expectancies between 1962 and 2007. We sort the table by this new column and display the top 5 entries. From this, we can see that the Maldives has seen the largest increase in life expectancy, nearly 37 years."
   ]
  },
  {
   "cell_type": "code",
   "execution_count": 34,
   "metadata": {},
   "outputs": [
    {
     "data": {
      "text/html": [
       "<div>\n",
       "<style scoped>\n",
       "    .dataframe tbody tr th:only-of-type {\n",
       "        vertical-align: middle;\n",
       "    }\n",
       "\n",
       "    .dataframe tbody tr th {\n",
       "        vertical-align: top;\n",
       "    }\n",
       "\n",
       "    .dataframe thead th {\n",
       "        text-align: right;\n",
       "    }\n",
       "</style>\n",
       "<table border=\"1\" class=\"dataframe\">\n",
       "  <thead>\n",
       "    <tr style=\"text-align: right;\">\n",
       "      <th>Year</th>\n",
       "      <th>1962</th>\n",
       "      <th>1967</th>\n",
       "      <th>1972</th>\n",
       "      <th>1977</th>\n",
       "      <th>1982</th>\n",
       "      <th>1987</th>\n",
       "      <th>1992</th>\n",
       "      <th>1997</th>\n",
       "      <th>2002</th>\n",
       "      <th>2007</th>\n",
       "    </tr>\n",
       "    <tr>\n",
       "      <th>Country Name</th>\n",
       "      <th></th>\n",
       "      <th></th>\n",
       "      <th></th>\n",
       "      <th></th>\n",
       "      <th></th>\n",
       "      <th></th>\n",
       "      <th></th>\n",
       "      <th></th>\n",
       "      <th></th>\n",
       "      <th></th>\n",
       "    </tr>\n",
       "  </thead>\n",
       "  <tbody>\n",
       "    <tr>\n",
       "      <th>Afghanistan</th>\n",
       "      <td>33.219902</td>\n",
       "      <td>35.389415</td>\n",
       "      <td>37.610146</td>\n",
       "      <td>40.110146</td>\n",
       "      <td>43.230732</td>\n",
       "      <td>47.296341</td>\n",
       "      <td>51.362927</td>\n",
       "      <td>54.017829</td>\n",
       "      <td>55.857195</td>\n",
       "      <td>57.833829</td>\n",
       "    </tr>\n",
       "    <tr>\n",
       "      <th>Albania</th>\n",
       "      <td>64.162854</td>\n",
       "      <td>66.287220</td>\n",
       "      <td>67.585951</td>\n",
       "      <td>69.456171</td>\n",
       "      <td>70.685122</td>\n",
       "      <td>71.861951</td>\n",
       "      <td>71.900805</td>\n",
       "      <td>72.898098</td>\n",
       "      <td>75.154610</td>\n",
       "      <td>76.470293</td>\n",
       "    </tr>\n",
       "    <tr>\n",
       "      <th>Algeria</th>\n",
       "      <td>47.045000</td>\n",
       "      <td>49.187512</td>\n",
       "      <td>51.171805</td>\n",
       "      <td>54.578268</td>\n",
       "      <td>60.786341</td>\n",
       "      <td>65.487146</td>\n",
       "      <td>67.209683</td>\n",
       "      <td>68.921220</td>\n",
       "      <td>71.014854</td>\n",
       "      <td>72.898366</td>\n",
       "    </tr>\n",
       "    <tr>\n",
       "      <th>Angola</th>\n",
       "      <td>33.787585</td>\n",
       "      <td>35.799976</td>\n",
       "      <td>37.826927</td>\n",
       "      <td>39.581366</td>\n",
       "      <td>40.408000</td>\n",
       "      <td>40.973878</td>\n",
       "      <td>41.313024</td>\n",
       "      <td>43.062122</td>\n",
       "      <td>46.711732</td>\n",
       "      <td>49.435732</td>\n",
       "    </tr>\n",
       "    <tr>\n",
       "      <th>Antigua and Barbuda</th>\n",
       "      <td>62.598537</td>\n",
       "      <td>64.488073</td>\n",
       "      <td>66.188268</td>\n",
       "      <td>67.730756</td>\n",
       "      <td>69.140927</td>\n",
       "      <td>70.432634</td>\n",
       "      <td>71.634707</td>\n",
       "      <td>72.757561</td>\n",
       "      <td>73.815439</td>\n",
       "      <td>74.803220</td>\n",
       "    </tr>\n",
       "  </tbody>\n",
       "</table>\n",
       "</div>"
      ],
      "text/plain": [
       "Year                      1962       1967       1972       1977       1982  \\\n",
       "Country Name                                                                 \n",
       "Afghanistan          33.219902  35.389415  37.610146  40.110146  43.230732   \n",
       "Albania              64.162854  66.287220  67.585951  69.456171  70.685122   \n",
       "Algeria              47.045000  49.187512  51.171805  54.578268  60.786341   \n",
       "Angola               33.787585  35.799976  37.826927  39.581366  40.408000   \n",
       "Antigua and Barbuda  62.598537  64.488073  66.188268  67.730756  69.140927   \n",
       "\n",
       "Year                      1987       1992       1997       2002       2007  \n",
       "Country Name                                                                \n",
       "Afghanistan          47.296341  51.362927  54.017829  55.857195  57.833829  \n",
       "Albania              71.861951  71.900805  72.898098  75.154610  76.470293  \n",
       "Algeria              65.487146  67.209683  68.921220  71.014854  72.898366  \n",
       "Angola               40.973878  41.313024  43.062122  46.711732  49.435732  \n",
       "Antigua and Barbuda  70.432634  71.634707  72.757561  73.815439  74.803220  "
      ]
     },
     "metadata": {},
     "output_type": "display_data"
    },
    {
     "data": {
      "text/html": [
       "<div>\n",
       "<style scoped>\n",
       "    .dataframe tbody tr th:only-of-type {\n",
       "        vertical-align: middle;\n",
       "    }\n",
       "\n",
       "    .dataframe tbody tr th {\n",
       "        vertical-align: top;\n",
       "    }\n",
       "\n",
       "    .dataframe thead th {\n",
       "        text-align: right;\n",
       "    }\n",
       "</style>\n",
       "<table border=\"1\" class=\"dataframe\">\n",
       "  <thead>\n",
       "    <tr style=\"text-align: right;\">\n",
       "      <th>Year</th>\n",
       "      <th>1962</th>\n",
       "      <th>1967</th>\n",
       "      <th>1972</th>\n",
       "      <th>1977</th>\n",
       "      <th>1982</th>\n",
       "      <th>1987</th>\n",
       "      <th>1992</th>\n",
       "      <th>1997</th>\n",
       "      <th>2002</th>\n",
       "      <th>2007</th>\n",
       "      <th>Increase in life expectancy between 1962 and 2007</th>\n",
       "    </tr>\n",
       "    <tr>\n",
       "      <th>Country Name</th>\n",
       "      <th></th>\n",
       "      <th></th>\n",
       "      <th></th>\n",
       "      <th></th>\n",
       "      <th></th>\n",
       "      <th></th>\n",
       "      <th></th>\n",
       "      <th></th>\n",
       "      <th></th>\n",
       "      <th></th>\n",
       "      <th></th>\n",
       "    </tr>\n",
       "  </thead>\n",
       "  <tbody>\n",
       "    <tr>\n",
       "      <th>Maldives</th>\n",
       "      <td>38.483561</td>\n",
       "      <td>41.914683</td>\n",
       "      <td>45.736146</td>\n",
       "      <td>50.127122</td>\n",
       "      <td>54.897732</td>\n",
       "      <td>58.974439</td>\n",
       "      <td>63.093293</td>\n",
       "      <td>67.278049</td>\n",
       "      <td>71.929195</td>\n",
       "      <td>75.399707</td>\n",
       "      <td>36.916146</td>\n",
       "    </tr>\n",
       "    <tr>\n",
       "      <th>Bhutan</th>\n",
       "      <td>33.094146</td>\n",
       "      <td>35.107024</td>\n",
       "      <td>38.471488</td>\n",
       "      <td>42.600829</td>\n",
       "      <td>46.447244</td>\n",
       "      <td>50.133756</td>\n",
       "      <td>54.040512</td>\n",
       "      <td>58.035244</td>\n",
       "      <td>62.435829</td>\n",
       "      <td>66.293098</td>\n",
       "      <td>33.198951</td>\n",
       "    </tr>\n",
       "    <tr>\n",
       "      <th>Timor-Leste</th>\n",
       "      <td>34.739049</td>\n",
       "      <td>37.606610</td>\n",
       "      <td>39.098098</td>\n",
       "      <td>32.850268</td>\n",
       "      <td>38.186220</td>\n",
       "      <td>45.839122</td>\n",
       "      <td>50.280268</td>\n",
       "      <td>56.165512</td>\n",
       "      <td>61.237634</td>\n",
       "      <td>65.824195</td>\n",
       "      <td>31.085146</td>\n",
       "    </tr>\n",
       "    <tr>\n",
       "      <th>Tunisia</th>\n",
       "      <td>43.341683</td>\n",
       "      <td>47.800512</td>\n",
       "      <td>53.450244</td>\n",
       "      <td>58.936732</td>\n",
       "      <td>63.803659</td>\n",
       "      <td>67.023073</td>\n",
       "      <td>70.756098</td>\n",
       "      <td>71.902439</td>\n",
       "      <td>73.000000</td>\n",
       "      <td>74.202439</td>\n",
       "      <td>30.860756</td>\n",
       "    </tr>\n",
       "    <tr>\n",
       "      <th>Oman</th>\n",
       "      <td>44.300512</td>\n",
       "      <td>48.107073</td>\n",
       "      <td>51.859634</td>\n",
       "      <td>56.759659</td>\n",
       "      <td>61.517195</td>\n",
       "      <td>65.370561</td>\n",
       "      <td>68.405488</td>\n",
       "      <td>70.978976</td>\n",
       "      <td>73.213317</td>\n",
       "      <td>75.123610</td>\n",
       "      <td>30.823098</td>\n",
       "    </tr>\n",
       "  </tbody>\n",
       "</table>\n",
       "</div>"
      ],
      "text/plain": [
       "Year               1962       1967       1972       1977       1982  \\\n",
       "Country Name                                                          \n",
       "Maldives      38.483561  41.914683  45.736146  50.127122  54.897732   \n",
       "Bhutan        33.094146  35.107024  38.471488  42.600829  46.447244   \n",
       "Timor-Leste   34.739049  37.606610  39.098098  32.850268  38.186220   \n",
       "Tunisia       43.341683  47.800512  53.450244  58.936732  63.803659   \n",
       "Oman          44.300512  48.107073  51.859634  56.759659  61.517195   \n",
       "\n",
       "Year               1987       1992       1997       2002       2007  \\\n",
       "Country Name                                                          \n",
       "Maldives      58.974439  63.093293  67.278049  71.929195  75.399707   \n",
       "Bhutan        50.133756  54.040512  58.035244  62.435829  66.293098   \n",
       "Timor-Leste   45.839122  50.280268  56.165512  61.237634  65.824195   \n",
       "Tunisia       67.023073  70.756098  71.902439  73.000000  74.202439   \n",
       "Oman          65.370561  68.405488  70.978976  73.213317  75.123610   \n",
       "\n",
       "Year          Increase in life expectancy between 1962 and 2007  \n",
       "Country Name                                                     \n",
       "Maldives                                              36.916146  \n",
       "Bhutan                                                33.198951  \n",
       "Timor-Leste                                           31.085146  \n",
       "Tunisia                                               30.860756  \n",
       "Oman                                                  30.823098  "
      ]
     },
     "metadata": {},
     "output_type": "display_data"
    }
   ],
   "source": [
    "# Pivot the data to create a table with life expectancies by country and year and clean it\n",
    "gapminder_life_exp = gapminder.pivot(index = 'Country Name', columns = 'Year', values = 'Life expectancy at birth, total (years)')\n",
    "gapminder_life_exp.dropna(inplace = True)\n",
    "display(gapminder_life_exp.head())\n",
    "\n",
    "# Add a column with the increase in life expectancy from 1962 to 2007, then display the sorted data\n",
    "gapminder_life_exp ['Increase in life expectancy between 1962 and 2007'] = gapminder_life_exp[2007] - gapminder_life_exp[1962]\n",
    "display(gapminder_life_exp.sort_values(by = 'Increase in life expectancy between 1962 and 2007', ascending = False).head())"
   ]
  }
 ],
 "metadata": {
  "kernelspec": {
   "display_name": "Python 3",
   "language": "python",
   "name": "python3"
  },
  "language_info": {
   "codemirror_mode": {
    "name": "ipython",
    "version": 3
   },
   "file_extension": ".py",
   "mimetype": "text/x-python",
   "name": "python",
   "nbconvert_exporter": "python",
   "pygments_lexer": "ipython3",
   "version": "3.8.5"
  }
 },
 "nbformat": 4,
 "nbformat_minor": 4
}
